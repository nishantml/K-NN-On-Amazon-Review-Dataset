{
 "cells": [
  {
   "cell_type": "code",
   "execution_count": 34,
   "metadata": {},
   "outputs": [],
   "source": [
    "%matplotlib inline\n",
    "import warnings\n",
    "warnings.filterwarnings(\"ignore\")\n",
    "\n",
    "import sqlite3\n",
    "import pandas as pd\n",
    "import numpy as np\n",
    "import nltk\n",
    "import string\n",
    "import matplotlib.pyplot as plt\n",
    "import seaborn as sns\n",
    "from sklearn.feature_extraction.text import TfidfTransformer\n",
    "from sklearn.feature_extraction.text import TfidfVectorizer\n",
    "\n",
    "from sklearn.feature_extraction.text import CountVectorizer\n",
    "from sklearn.metrics import confusion_matrix\n",
    "from sklearn import metrics\n",
    "from sklearn.metrics import roc_curve, auc\n",
    "from nltk.stem.porter import PorterStemmer\n",
    "\n",
    "import re\n",
    "# Tutorial about Python regular expressions: https://pymotw.com/2/re/\n",
    "import string\n",
    "from nltk.corpus import stopwords\n",
    "from nltk.stem import PorterStemmer\n",
    "from nltk.stem.wordnet import WordNetLemmatizer\n",
    "\n",
    "from gensim.models import Word2Vec\n",
    "from gensim.models import KeyedVectors\n",
    "import pickle\n",
    "#taking cleaned data i.e in Reviews table  from final sql database\n",
    "#making connection with database \n",
    "conn = sqlite3.connect('final.sqlite') \n",
    "final = pd.read_sql_query(\"\"\" SELECT * FROM Reviews ORDER BY Time\"\"\", conn) \n"
   ]
  },
  {
   "cell_type": "code",
   "execution_count": 35,
   "metadata": {},
   "outputs": [
    {
     "name": "stdout",
     "output_type": "stream",
     "text": [
      "60000\n"
     ]
    }
   ],
   "source": [
    "final = final[:60000]\n",
    "print(len(final))"
   ]
  },
  {
   "cell_type": "code",
   "execution_count": 36,
   "metadata": {},
   "outputs": [
    {
     "name": "stdout",
     "output_type": "stream",
     "text": [
      "60000\n"
     ]
    }
   ],
   "source": [
    "print(len(final))"
   ]
  },
  {
   "cell_type": "code",
   "execution_count": 37,
   "metadata": {},
   "outputs": [],
   "source": [
    "CleanedText = final['CleanedText'];\n",
    "#print(CleanedText)"
   ]
  },
  {
   "cell_type": "code",
   "execution_count": 38,
   "metadata": {},
   "outputs": [
    {
     "data": {
      "text/plain": [
       "list"
      ]
     },
     "execution_count": 38,
     "metadata": {},
     "output_type": "execute_result"
    }
   ],
   "source": [
    "CleanedText_Class = [];\n",
    "for i in final['Score']:\n",
    "    if (i == 'positive'):\n",
    "        CleanedText_Class.append(1)\n",
    "    else:\n",
    "        CleanedText_Class.append(0)\n",
    "    \n",
    "\n",
    "CleanedText_Class \n",
    "type(CleanedText_Class)"
   ]
  },
  {
   "cell_type": "code",
   "execution_count": 39,
   "metadata": {},
   "outputs": [
    {
     "name": "stdout",
     "output_type": "stream",
     "text": [
      "<class 'numpy.ndarray'>\n"
     ]
    }
   ],
   "source": [
    "text=final.CleanedText.values\n",
    "print(type(text))"
   ]
  },
  {
   "cell_type": "code",
   "execution_count": 40,
   "metadata": {},
   "outputs": [],
   "source": [
    "# ============================== loading libraries ===========================================\n",
    "import numpy as np\n",
    "import pandas as pd\n",
    "import matplotlib.pyplot as plt\n",
    "from sklearn.cross_validation import train_test_split\n",
    "from sklearn.neighbors import KNeighborsClassifier\n",
    "from sklearn.metrics import accuracy_score\n",
    "from sklearn.cross_validation import cross_val_score\n",
    "from collections import Counter\n",
    "from sklearn.metrics import accuracy_score\n",
    "from sklearn import cross_validation\n",
    "# ====================================\n",
    "# split the data set into train and test for BoW\n",
    "#X_1, X_test, y_1, y_test = cross_validation.train_test_split(X, y, test_size=0.3, random_state=0)\n",
    "X_1, X_test, y_1, y_test = cross_validation.train_test_split(text, CleanedText_Class, test_size=0.3, random_state=0)\n",
    "\n",
    "# split the train data set into cross validation train and cross validation test\n",
    "X_tr, X_cv, y_tr, y_cv = cross_validation.train_test_split(X_1, y_1, test_size=0.3)"
   ]
  },
  {
   "cell_type": "code",
   "execution_count": 41,
   "metadata": {},
   "outputs": [
    {
     "name": "stdout",
     "output_type": "stream",
     "text": [
      "(29400,)\n"
     ]
    }
   ],
   "source": [
    "y_tr = np.array(y_tr)\n",
    "print(y_tr.shape)"
   ]
  },
  {
   "cell_type": "code",
   "execution_count": 42,
   "metadata": {},
   "outputs": [],
   "source": [
    "y_cv = np.array(y_cv)"
   ]
  },
  {
   "cell_type": "code",
   "execution_count": 43,
   "metadata": {},
   "outputs": [],
   "source": [
    "y_1 = np.array(y_1)"
   ]
  },
  {
   "cell_type": "markdown",
   "metadata": {},
   "source": [
    "# BOW "
   ]
  },
  {
   "cell_type": "code",
   "execution_count": 44,
   "metadata": {},
   "outputs": [],
   "source": [
    "#BOW \n",
    "from sklearn.feature_extraction.text import CountVectorizer\n",
    "vectorizer = CountVectorizer()\n",
    "vocabulary= vectorizer.fit(X_tr)\n",
    "#print(\"the shape of out text BOW vectorizer \",vocabulary.get_shape())\n",
    "#bow_x_tr.shape\n",
    "# bow_tr_array"
   ]
  },
  {
   "cell_type": "code",
   "execution_count": 45,
   "metadata": {},
   "outputs": [
    {
     "name": "stdout",
     "output_type": "stream",
     "text": [
      "the shape of out text BOW vectorizer  (29400, 21148)\n"
     ]
    }
   ],
   "source": [
    "bow_x_tr= vectorizer.transform(X_tr)\n",
    "print(\"the shape of out text BOW vectorizer \",bow_x_tr.get_shape())"
   ]
  },
  {
   "cell_type": "code",
   "execution_count": 74,
   "metadata": {},
   "outputs": [],
   "source": [
    "# from sklearn.feature_extraction.text import CountVectorizer\n",
    "# vectorizer = CountVectorizer()\n",
    "# bow_x_tr= vectorizer.fit_transform(X_tr)\n",
    "# print(\"the shape of out text BOW vectorizer \",bow_x_tr.get_shape())\n",
    "#bow_x_tr.shape\n",
    "# bow_tr_array"
   ]
  },
  {
   "cell_type": "markdown",
   "metadata": {},
   "source": [
    "## CV to BOW"
   ]
  },
  {
   "cell_type": "code",
   "execution_count": 46,
   "metadata": {},
   "outputs": [
    {
     "name": "stdout",
     "output_type": "stream",
     "text": [
      "the shape of out text BOW vectorizer  (12600, 21148)\n"
     ]
    }
   ],
   "source": [
    "bow_x_cv= vectorizer.transform(X_cv)\n",
    "print(\"the shape of out text BOW vectorizer \",bow_x_cv.get_shape())"
   ]
  },
  {
   "cell_type": "markdown",
   "metadata": {},
   "source": [
    "## test to bow"
   ]
  },
  {
   "cell_type": "code",
   "execution_count": 47,
   "metadata": {},
   "outputs": [
    {
     "name": "stdout",
     "output_type": "stream",
     "text": [
      "the shape of out text BOW vectorizer  (18000, 21148)\n"
     ]
    }
   ],
   "source": [
    "bow_x_test= vectorizer.transform(X_test)\n",
    "print(\"the shape of out text BOW vectorizer \",bow_x_test.get_shape())"
   ]
  },
  {
   "cell_type": "markdown",
   "metadata": {},
   "source": [
    "## whole training data without cv "
   ]
  },
  {
   "cell_type": "code",
   "execution_count": 48,
   "metadata": {},
   "outputs": [
    {
     "name": "stdout",
     "output_type": "stream",
     "text": [
      "the shape of out text BOW vectorizer  (42000, 24834)\n"
     ]
    }
   ],
   "source": [
    "#whole training data without cv \n",
    "bow_x_1= vectorizer.fit_transform(X_1)\n",
    "print(\"the shape of out text BOW vectorizer \",bow_x_1.get_shape())"
   ]
  },
  {
   "cell_type": "markdown",
   "metadata": {},
   "source": [
    "## finding optimal k with train and cv data by applying knn with accuracy"
   ]
  },
  {
   "cell_type": "code",
   "execution_count": 49,
   "metadata": {},
   "outputs": [
    {
     "name": "stdout",
     "output_type": "stream",
     "text": [
      "\n",
      "CV accuracy for k = 1 is 85%\n",
      "\n",
      "CV accuracy for k = 3 is 88%\n",
      "\n",
      "CV accuracy for k = 5 is 88%\n",
      "\n",
      "CV accuracy for k = 7 is 88%\n",
      "\n",
      "CV accuracy for k = 9 is 88%\n",
      "\n",
      "CV accuracy for k = 11 is 88%\n",
      "\n",
      "CV accuracy for k = 13 is 88%\n",
      "\n",
      "CV accuracy for k = 15 is 88%\n",
      "\n",
      "CV accuracy for k = 17 is 88%\n",
      "\n",
      "CV accuracy for k = 19 is 88%\n",
      "\n",
      "CV accuracy for k = 21 is 88%\n",
      "\n",
      "CV accuracy for k = 23 is 88%\n",
      "\n",
      "CV accuracy for k = 25 is 88%\n",
      "\n",
      "CV accuracy for k = 27 is 88%\n",
      "\n",
      "CV accuracy for k = 29 is 88%\n"
     ]
    }
   ],
   "source": [
    "for i in range(1,30,2):\n",
    "    # instantiate learning model (k = 30)\n",
    "    knn = KNeighborsClassifier(n_neighbors=i)\n",
    "\n",
    "    # fitting the model on crossvalidation train\n",
    "    knn.fit(bow_x_tr, y_tr)\n",
    "\n",
    "    # predict the response on the crossvalidation train\n",
    "    pred = knn.predict(bow_x_cv)\n",
    "\n",
    "    # evaluate CV accuracy\n",
    "    acc = accuracy_score(y_cv, pred, normalize=True) * float(100)\n",
    "    print('\\nCV accuracy for k = %d is %d%%' % (i, acc))\n",
    "    \n",
    "# knn = KNeighborsClassifier(1)\n",
    "# knn.fit(X_tr,y_tr)\n",
    "# pred = knn.predict(X_test)\n",
    "# acc = accuracy_score(y_test, pred, normalize=True) * float(100)\n",
    "# print('\\n****Test accuracy for k = 1 is %d%%' % (acc))"
   ]
  },
  {
   "cell_type": "markdown",
   "metadata": {},
   "source": [
    "## finding optimal k with train and cv data by applying knn with micro f1_score"
   ]
  },
  {
   "cell_type": "code",
   "execution_count": 56,
   "metadata": {},
   "outputs": [
    {
     "name": "stdout",
     "output_type": "stream",
     "text": [
      "\n",
      "CV macro f1_score for k = 1 is 85%\n",
      "\n",
      "CV macro f1_score for k = 3 is 88%\n",
      "\n",
      "CV macro f1_score for k = 5 is 88%\n",
      "\n",
      "CV macro f1_score for k = 7 is 88%\n",
      "\n",
      "CV macro f1_score for k = 9 is 88%\n",
      "\n",
      "CV macro f1_score for k = 11 is 88%\n",
      "\n",
      "CV macro f1_score for k = 13 is 88%\n",
      "\n",
      "CV macro f1_score for k = 15 is 88%\n",
      "\n",
      "CV macro f1_score for k = 17 is 88%\n",
      "\n",
      "CV macro f1_score for k = 19 is 88%\n",
      "\n",
      "CV macro f1_score for k = 21 is 88%\n",
      "\n",
      "CV macro f1_score for k = 23 is 88%\n",
      "\n",
      "CV macro f1_score for k = 25 is 88%\n",
      "\n",
      "CV macro f1_score for k = 27 is 88%\n",
      "\n",
      "CV macro f1_score for k = 29 is 88%\n"
     ]
    }
   ],
   "source": [
    "from sklearn.metrics import f1_score\n",
    "for i in range(1,30,2):\n",
    "    # instantiate learning model (k = 30)\n",
    "    knn = KNeighborsClassifier(n_neighbors=i)\n",
    "\n",
    "    # fitting the model on crossvalidation train\n",
    "    knn.fit(bow_x_tr, y_tr)\n",
    "\n",
    "    # predict the response on the crossvalidation train\n",
    "    pred = knn.predict(bow_x_cv)\n",
    "\n",
    "    # evaluate CV accuracy\n",
    "    acc = f1_score(y_cv, pred, average='micro') * float(100)\n",
    "    print('\\nCV macro f1_score for k = %d is %d%%' % (i, acc))"
   ]
  },
  {
   "cell_type": "markdown",
   "metadata": {},
   "source": [
    "# finding optimal k with train and cv data by applying knn with algo kdtree"
   ]
  },
  {
   "cell_type": "code",
   "execution_count": 145,
   "metadata": {},
   "outputs": [
    {
     "name": "stderr",
     "output_type": "stream",
     "text": [
      "\r",
      "  0%|                                                                                           | 0/15 [00:00<?, ?it/s]"
     ]
    },
    {
     "name": "stdout",
     "output_type": "stream",
     "text": [
      "\n",
      "CV accuracy for k = 1 is 85%\n"
     ]
    },
    {
     "name": "stderr",
     "output_type": "stream",
     "text": [
      "\r",
      "  7%|█████▌                                                                             | 1/15 [00:15<03:43, 15.98s/it]"
     ]
    },
    {
     "name": "stdout",
     "output_type": "stream",
     "text": [
      "\n",
      "CV accuracy for k = 3 is 88%\n"
     ]
    },
    {
     "name": "stderr",
     "output_type": "stream",
     "text": [
      "\r",
      " 13%|███████████                                                                        | 2/15 [00:32<03:28, 16.07s/it]"
     ]
    },
    {
     "name": "stdout",
     "output_type": "stream",
     "text": [
      "\n",
      "CV accuracy for k = 5 is 88%\n"
     ]
    },
    {
     "name": "stderr",
     "output_type": "stream",
     "text": [
      "\r",
      " 20%|████████████████▌                                                                  | 3/15 [00:51<03:23, 16.95s/it]"
     ]
    },
    {
     "name": "stdout",
     "output_type": "stream",
     "text": [
      "\n",
      "CV accuracy for k = 7 is 88%\n"
     ]
    },
    {
     "name": "stderr",
     "output_type": "stream",
     "text": [
      "\r",
      " 27%|██████████████████████▏                                                            | 4/15 [01:10<03:13, 17.55s/it]"
     ]
    },
    {
     "name": "stdout",
     "output_type": "stream",
     "text": [
      "\n",
      "CV accuracy for k = 9 is 88%\n"
     ]
    },
    {
     "name": "stderr",
     "output_type": "stream",
     "text": [
      "\r",
      " 33%|███████████████████████████▋                                                       | 5/15 [01:29<03:01, 18.12s/it]"
     ]
    },
    {
     "name": "stdout",
     "output_type": "stream",
     "text": [
      "\n",
      "CV accuracy for k = 11 is 88%\n"
     ]
    },
    {
     "name": "stderr",
     "output_type": "stream",
     "text": [
      "\r",
      " 40%|█████████████████████████████████▏                                                 | 6/15 [01:48<02:45, 18.42s/it]"
     ]
    },
    {
     "name": "stdout",
     "output_type": "stream",
     "text": [
      "\n",
      "CV accuracy for k = 13 is 88%\n"
     ]
    },
    {
     "name": "stderr",
     "output_type": "stream",
     "text": [
      "\r",
      " 47%|██████████████████████████████████████▋                                            | 7/15 [02:08<02:30, 18.81s/it]"
     ]
    },
    {
     "name": "stdout",
     "output_type": "stream",
     "text": [
      "\n",
      "CV accuracy for k = 15 is 88%\n"
     ]
    },
    {
     "name": "stderr",
     "output_type": "stream",
     "text": [
      "\r",
      " 53%|████████████████████████████████████████████▎                                      | 8/15 [02:27<02:11, 18.81s/it]"
     ]
    },
    {
     "name": "stdout",
     "output_type": "stream",
     "text": [
      "\n",
      "CV accuracy for k = 17 is 88%\n"
     ]
    },
    {
     "name": "stderr",
     "output_type": "stream",
     "text": [
      "\r",
      " 60%|█████████████████████████████████████████████████▊                                 | 9/15 [02:46<01:54, 19.00s/it]"
     ]
    },
    {
     "name": "stdout",
     "output_type": "stream",
     "text": [
      "\n",
      "CV accuracy for k = 19 is 88%\n"
     ]
    },
    {
     "name": "stderr",
     "output_type": "stream",
     "text": [
      "\r",
      " 67%|██████████████████████████████████████████████████████▋                           | 10/15 [03:06<01:36, 19.25s/it]"
     ]
    },
    {
     "name": "stdout",
     "output_type": "stream",
     "text": [
      "\n",
      "CV accuracy for k = 21 is 88%\n"
     ]
    },
    {
     "name": "stderr",
     "output_type": "stream",
     "text": [
      "\r",
      " 73%|████████████████████████████████████████████████████████████▏                     | 11/15 [03:26<01:17, 19.37s/it]"
     ]
    },
    {
     "name": "stdout",
     "output_type": "stream",
     "text": [
      "\n",
      "CV accuracy for k = 23 is 88%\n"
     ]
    },
    {
     "name": "stderr",
     "output_type": "stream",
     "text": [
      "\r",
      " 80%|█████████████████████████████████████████████████████████████████▌                | 12/15 [03:46<00:58, 19.65s/it]"
     ]
    },
    {
     "name": "stdout",
     "output_type": "stream",
     "text": [
      "\n",
      "CV accuracy for k = 25 is 88%\n"
     ]
    },
    {
     "name": "stderr",
     "output_type": "stream",
     "text": [
      "\r",
      " 87%|███████████████████████████████████████████████████████████████████████           | 13/15 [04:05<00:39, 19.52s/it]"
     ]
    },
    {
     "name": "stdout",
     "output_type": "stream",
     "text": [
      "\n",
      "CV accuracy for k = 27 is 88%\n"
     ]
    },
    {
     "name": "stderr",
     "output_type": "stream",
     "text": [
      "\r",
      " 93%|████████████████████████████████████████████████████████████████████████████▌     | 14/15 [04:24<00:19, 19.30s/it]"
     ]
    },
    {
     "name": "stdout",
     "output_type": "stream",
     "text": [
      "\n",
      "CV accuracy for k = 29 is 88%\n"
     ]
    },
    {
     "name": "stderr",
     "output_type": "stream",
     "text": [
      "100%|██████████████████████████████████████████████████████████████████████████████████| 15/15 [04:43<00:00, 19.31s/it]\n"
     ]
    }
   ],
   "source": [
    "for i in tqdm(range(1,30,2)):\n",
    "    # instantiate learning model (k = 30)\n",
    "    knn = KNeighborsClassifier(n_neighbors=i,algorithm='kd_tree', leaf_size=30)\n",
    "\n",
    "    # fitting the model on crossvalidation train\n",
    "    knn.fit(bow_x_tr, y_tr)\n",
    "\n",
    "    # predict the response on the crossvalidation train\n",
    "    pred = knn.predict(bow_x_cv)\n",
    "\n",
    "    # evaluate CV accuracy\n",
    "    acc = accuracy_score(y_cv, pred, normalize=True) * float(100)\n",
    "    print('\\nCV accuracy for k = %d is %d%%' % (i, acc))"
   ]
  },
  {
   "cell_type": "markdown",
   "metadata": {},
   "source": [
    "## getting optimal value of k "
   ]
  },
  {
   "cell_type": "code",
   "execution_count": 94,
   "metadata": {},
   "outputs": [
    {
     "name": "stdout",
     "output_type": "stream",
     "text": [
      "\n",
      "The optimal number of neighbors is 7.\n"
     ]
    },
    {
     "data": {
      "image/png": "[encoded data removed]",
      "text/plain": [
       "<Figure size 432x288 with 1 Axes>"
      ]
     },
     "metadata": {},
     "output_type": "display_data"
    },
    {
     "name": "stdout",
     "output_type": "stream",
     "text": [
      "the misclassification error for each k value is :  [0.148 0.125 0.12  0.12  0.12  0.12  0.12  0.12  0.121 0.121 0.121 0.121\n",
      " 0.121 0.121 0.121 0.121 0.121 0.121 0.121 0.121 0.121 0.121 0.121 0.121\n",
      " 0.122]\n"
     ]
    }
   ],
   "source": [
    "# creating odd list of K for KNN for BoW\n",
    "myList = list(range(0,50))\n",
    "neighbors = list(filter(lambda x: x % 2 != 0, myList))\n",
    "\n",
    "# empty list that will hold cv scores\n",
    "cv_scores = []\n",
    "\n",
    "# perform 10-fold cross validation\n",
    "for k in neighbors:\n",
    "    knn = KNeighborsClassifier(n_neighbors=k)\n",
    "    scores = cross_val_score(knn, bow_x_1, y_1, cv=3, scoring='accuracy')\n",
    "    cv_scores.append(scores.mean())\n",
    "\n",
    "# changing to misclassification error\n",
    "MSE = [1 - x for x in cv_scores]\n",
    "\n",
    "# determining best k\n",
    "optimal_k = neighbors[MSE.index(min(MSE))]\n",
    "print('\\nThe optimal number of neighbors is %d.' % optimal_k)\n",
    "\n",
    "# plot misclassification error vs k \n",
    "plt.plot(neighbors, MSE)\n",
    "\n",
    "for xy in zip(neighbors, np.round(MSE,3)):\n",
    "    plt.annotate('(%s, %s)' % xy, xy=xy, textcoords='data')\n",
    "\n",
    "plt.xlabel('Number of Neighbors K')\n",
    "plt.ylabel('Misclassification Error')\n",
    "plt.show()\n",
    "\n",
    "print(\"the misclassification error for each k value is : \", np.round(MSE,3))"
   ]
  },
  {
   "cell_type": "markdown",
   "metadata": {},
   "source": [
    "## Applying optimal k on test data to get the accuracy with optimal k=7"
   ]
  },
  {
   "cell_type": "code",
   "execution_count": 50,
   "metadata": {},
   "outputs": [
    {
     "name": "stdout",
     "output_type": "stream",
     "text": [
      "\n",
      "****Test accuracy for k = 7 is 89%\n"
     ]
    }
   ],
   "source": [
    "knn = KNeighborsClassifier(7)\n",
    "knn.fit(bow_x_tr,y_tr)\n",
    "pred = knn.predict(bow_x_test)\n",
    "acc = accuracy_score(y_test, pred, normalize=True) * float(100)\n",
    "print('\\n****Test accuracy for k = 7 is %d%%' % (acc))"
   ]
  },
  {
   "cell_type": "markdown",
   "metadata": {},
   "source": [
    "## Applying optimal k with knn(kd-tree) on test data to get the accuracy with optimal k=3"
   ]
  },
  {
   "cell_type": "code",
   "execution_count": 147,
   "metadata": {},
   "outputs": [
    {
     "name": "stdout",
     "output_type": "stream",
     "text": [
      "\n",
      "****Test accuracy for k = 3 is 88%\n"
     ]
    }
   ],
   "source": [
    "knn = KNeighborsClassifier(3,algorithm='kd_tree', leaf_size=30)\n",
    "knn.fit(bow_x_tr,y_tr)\n",
    "pred = knn.predict(bow_x_test)\n",
    "acc = accuracy_score(y_test, pred, normalize=True) * float(100)\n",
    "print('\\n****Test accuracy for k = 3 is %d%%' % (acc))"
   ]
  },
  {
   "cell_type": "markdown",
   "metadata": {},
   "source": [
    "## Applying optimal k on test data to get micro the f1_score with optimal k=7"
   ]
  },
  {
   "cell_type": "code",
   "execution_count": 121,
   "metadata": {},
   "outputs": [
    {
     "name": "stdout",
     "output_type": "stream",
     "text": [
      "\n",
      "****Test micro f1_acore for k = 7 is 89%\n"
     ]
    }
   ],
   "source": [
    "knn = KNeighborsClassifier(7)\n",
    "knn.fit(bow_x_tr,y_tr)\n",
    "pred = knn.predict(bow_x_test)\n",
    "acc = f1_score(y_test, pred,  average='micro') * float(100)\n",
    "print('\\n****Test micro f1_acore for k = 7 is %d%%' % (acc))"
   ]
  },
  {
   "cell_type": "markdown",
   "metadata": {},
   "source": [
    "## knn(kd-tree) finding optimal k with train and cv data by applying knn with micro f1_score"
   ]
  },
  {
   "cell_type": "code",
   "execution_count": 164,
   "metadata": {},
   "outputs": [
    {
     "name": "stdout",
     "output_type": "stream",
     "text": [
      "\n",
      "kd-tree CV macro f1_score for k = 1 is 85%\n",
      "\n",
      "kd-tree CV macro f1_score for k = 3 is 88%\n",
      "\n",
      "kd-tree CV macro f1_score for k = 5 is 88%\n",
      "\n",
      "kd-tree CV macro f1_score for k = 7 is 88%\n",
      "\n",
      "kd-tree CV macro f1_score for k = 9 is 88%\n",
      "\n",
      "kd-tree CV macro f1_score for k = 11 is 88%\n",
      "\n",
      "kd-tree CV macro f1_score for k = 13 is 88%\n",
      "\n",
      "kd-tree CV macro f1_score for k = 15 is 88%\n",
      "\n",
      "kd-tree CV macro f1_score for k = 17 is 88%\n",
      "\n",
      "kd-tree CV macro f1_score for k = 19 is 88%\n",
      "\n",
      "kd-tree CV macro f1_score for k = 21 is 88%\n",
      "\n",
      "kd-tree CV macro f1_score for k = 23 is 88%\n",
      "\n",
      "kd-tree CV macro f1_score for k = 25 is 88%\n",
      "\n",
      "kd-tree CV macro f1_score for k = 27 is 88%\n",
      "\n",
      "kd-tree CV macro f1_score for k = 29 is 88%\n"
     ]
    }
   ],
   "source": [
    "for i in range(1,30,2):\n",
    "    # instantiate learning model (k = 30)\n",
    "    knn = KNeighborsClassifier(n_neighbors=i,algorithm='kd_tree', leaf_size=30)\n",
    "\n",
    "    # fitting the model on crossvalidation train\n",
    "    knn.fit(bow_x_tr, y_tr)\n",
    "\n",
    "    # predict the response on the crossvalidation train\n",
    "    pred = knn.predict(bow_x_cv)\n",
    "\n",
    "    # evaluate CV accuracy\n",
    "    acc = f1_score(y_cv, pred, average='micro') * float(100)\n",
    "    print('\\nkd-tree CV macro f1_score for k = %d is %d%%' % (i, acc))"
   ]
  },
  {
   "cell_type": "markdown",
   "metadata": {},
   "source": [
    "## Applying optimal on knn(kd-tree) k on test data to get micro the f1_score with optimal k=3"
   ]
  },
  {
   "cell_type": "code",
   "execution_count": 148,
   "metadata": {},
   "outputs": [
    {
     "name": "stdout",
     "output_type": "stream",
     "text": [
      "\n",
      "****knn kd-tree Test micro f1_acore for k = 3 is 88%\n"
     ]
    }
   ],
   "source": [
    "knn = KNeighborsClassifier(3,algorithm='kd_tree', leaf_size=30)\n",
    "knn.fit(bow_x_tr,y_tr)\n",
    "pred = knn.predict(bow_x_test)\n",
    "acc = f1_score(y_test, pred,  average='micro') * float(100)\n",
    "print('\\n****knn kd-tree Test micro f1_acore for k = 3 is %d%%' % (acc))"
   ]
  },
  {
   "cell_type": "code",
   "execution_count": null,
   "metadata": {},
   "outputs": [],
   "source": []
  },
  {
   "cell_type": "markdown",
   "metadata": {},
   "source": [
    "## apply confusion matrix  on bow"
   ]
  },
  {
   "cell_type": "code",
   "execution_count": 52,
   "metadata": {},
   "outputs": [
    {
     "data": {
      "text/plain": [
       "array([[   59,  1949],\n",
       "       [   26, 15966]], dtype=int64)"
      ]
     },
     "execution_count": 52,
     "metadata": {},
     "output_type": "execute_result"
    }
   ],
   "source": [
    "# apply confusion matrix \n",
    "from sklearn.metrics import confusion_matrix\n",
    "knn = KNeighborsClassifier(7)\n",
    "knn.fit(bow_x_tr,y_tr)\n",
    "pred = knn.predict(bow_x_test)\n",
    "# acc = accuracy_score(y_test, pred, normalize=True) * float(100)\n",
    "# print('\\n****Test accuracy for k = 5 is %d%%' % (acc))\n",
    "bow_confusion_matrix = confusion_matrix(y_test, pred)\n",
    "bow_confusion_matrix"
   ]
  },
  {
   "cell_type": "code",
   "execution_count": 53,
   "metadata": {},
   "outputs": [
    {
     "data": {
      "image/png": "[encoded data removed]",
      "text/plain": [
       "<Figure size 432x288 with 2 Axes>"
      ]
     },
     "metadata": {},
     "output_type": "display_data"
    }
   ],
   "source": [
    "import seaborn as sns; \n",
    "ax = sns.heatmap(bow_confusion_matrix,annot=bow_confusion_matrix, fmt='')"
   ]
  },
  {
   "cell_type": "markdown",
   "metadata": {},
   "source": [
    "# tfidf"
   ]
  },
  {
   "cell_type": "code",
   "execution_count": 59,
   "metadata": {},
   "outputs": [],
   "source": [
    "#tfidf \n",
    "tf_idf_vect = TfidfVectorizer(ngram_range=(1,2))\n",
    "vocabulary = tf_idf_vect.fit(X_tr)\n",
    "#print(\"the shape of out text BOW vectorizer \",tf_idf_x_tr.get_shape())"
   ]
  },
  {
   "cell_type": "code",
   "execution_count": 60,
   "metadata": {},
   "outputs": [
    {
     "name": "stdout",
     "output_type": "stream",
     "text": [
      "the shape of out text BOW vectorizer  (29400, 492757)\n"
     ]
    }
   ],
   "source": [
    "tf_idf_x_tr = tf_idf_vect.transform(X_tr)\n",
    "print(\"the shape of out text BOW vectorizer \",tf_idf_x_tr.get_shape())"
   ]
  },
  {
   "cell_type": "code",
   "execution_count": 61,
   "metadata": {},
   "outputs": [
    {
     "name": "stdout",
     "output_type": "stream",
     "text": [
      "the shape of out text BOW vectorizer  (12600, 492757)\n"
     ]
    }
   ],
   "source": [
    "tf_idf_x_cv = tf_idf_vect.transform(X_cv)\n",
    "print(\"the shape of out text BOW vectorizer \",tf_idf_x_cv.get_shape())"
   ]
  },
  {
   "cell_type": "code",
   "execution_count": 62,
   "metadata": {},
   "outputs": [
    {
     "name": "stdout",
     "output_type": "stream",
     "text": [
      "the shape of out text BOW vectorizer  (18000, 492757)\n"
     ]
    }
   ],
   "source": [
    "tf_idf_x_test= tf_idf_vect.transform(X_test)\n",
    "print(\"the shape of out text BOW vectorizer \",tf_idf_x_test.get_shape())"
   ]
  },
  {
   "cell_type": "code",
   "execution_count": 63,
   "metadata": {},
   "outputs": [
    {
     "name": "stdout",
     "output_type": "stream",
     "text": [
      "the shape of out text BOW vectorizer  (42000, 492757)\n"
     ]
    }
   ],
   "source": [
    "tf_idf_x_1= tf_idf_vect.transform(X_1)\n",
    "print(\"the shape of out text BOW vectorizer \",tf_idf_x_1.get_shape())"
   ]
  },
  {
   "cell_type": "code",
   "execution_count": 64,
   "metadata": {},
   "outputs": [
    {
     "name": "stdout",
     "output_type": "stream",
     "text": [
      "\n",
      "CV accuracy for k = 1 is 85%\n",
      "\n",
      "CV accuracy for k = 3 is 88%\n",
      "\n",
      "CV accuracy for k = 5 is 89%\n",
      "\n",
      "CV accuracy for k = 7 is 89%\n",
      "\n",
      "CV accuracy for k = 9 is 89%\n",
      "\n",
      "CV accuracy for k = 11 is 89%\n",
      "\n",
      "CV accuracy for k = 13 is 89%\n",
      "\n",
      "CV accuracy for k = 15 is 89%\n",
      "\n",
      "CV accuracy for k = 17 is 89%\n",
      "\n",
      "CV accuracy for k = 19 is 89%\n",
      "\n",
      "CV accuracy for k = 21 is 89%\n",
      "\n",
      "CV accuracy for k = 23 is 89%\n",
      "\n",
      "CV accuracy for k = 25 is 89%\n",
      "\n",
      "CV accuracy for k = 27 is 89%\n",
      "\n",
      "CV accuracy for k = 29 is 89%\n"
     ]
    }
   ],
   "source": [
    "for i in range(1,30,2):\n",
    "    # instantiate learning model (k = 30)\n",
    "    knn = KNeighborsClassifier(n_neighbors=i)\n",
    "\n",
    "    # fitting the model on crossvalidation train\n",
    "    knn.fit(tf_idf_x_tr, y_tr)\n",
    "\n",
    "    # predict the response on the crossvalidation train\n",
    "    pred = knn.predict(tf_idf_x_cv)\n",
    "\n",
    "    # evaluate CV accuracy\n",
    "    acc = accuracy_score(y_cv, pred, normalize=True) * float(100)\n",
    "    print('\\nCV accuracy for k = %d is %d%%' % (i, acc))\n",
    "    \n",
    "# knn = KNeighborsClassifier(1)\n",
    "# knn.fit(X_tr,y_tr)\n",
    "# pred = knn.predict(X_test)\n",
    "# acc = accuracy_score(y_test, pred, normalize=True) * float(100)\n",
    "# print('\\n****Test accuracy for k = 1 is %d%%' % (acc))"
   ]
  },
  {
   "cell_type": "markdown",
   "metadata": {},
   "source": [
    "## getting optimal k with acc on train and cv with knn kd-tree "
   ]
  },
  {
   "cell_type": "code",
   "execution_count": 151,
   "metadata": {},
   "outputs": [
    {
     "name": "stdout",
     "output_type": "stream",
     "text": [
      "\n",
      "kd-tree CV accuracy for k = 1 is 85%\n",
      "\n",
      "kd-tree CV accuracy for k = 3 is 88%\n",
      "\n",
      "kd-tree CV accuracy for k = 5 is 89%\n",
      "\n",
      "kd-tree CV accuracy for k = 7 is 89%\n",
      "\n",
      "kd-tree CV accuracy for k = 9 is 89%\n",
      "\n",
      "kd-tree CV accuracy for k = 11 is 89%\n",
      "\n",
      "kd-tree CV accuracy for k = 13 is 89%\n",
      "\n",
      "kd-tree CV accuracy for k = 15 is 89%\n",
      "\n",
      "kd-tree CV accuracy for k = 17 is 89%\n",
      "\n",
      "kd-tree CV accuracy for k = 19 is 89%\n",
      "\n",
      "kd-tree CV accuracy for k = 21 is 89%\n",
      "\n",
      "kd-tree CV accuracy for k = 23 is 89%\n",
      "\n",
      "kd-tree CV accuracy for k = 25 is 89%\n",
      "\n",
      "kd-tree CV accuracy for k = 27 is 89%\n",
      "\n",
      "kd-tree CV accuracy for k = 29 is 89%\n"
     ]
    }
   ],
   "source": [
    "for i in range(1,30,2):\n",
    "    # instantiate learning model (k = 30)\n",
    "    knn = KNeighborsClassifier(n_neighbors=i,algorithm='kd_tree', leaf_size=30)\n",
    "\n",
    "    # fitting the model on crossvalidation train\n",
    "    knn.fit(tf_idf_x_tr, y_tr)\n",
    "\n",
    "    # predict the response on the crossvalidation train\n",
    "    pred = knn.predict(tf_idf_x_cv)\n",
    "\n",
    "    # evaluate CV accuracy\n",
    "    acc = accuracy_score(y_cv, pred, normalize=True) * float(100)\n",
    "    print('\\nkd-tree CV accuracy for k = %d is %d%%' % (i, acc))\n",
    "    \n",
    "# knn = KNeighborsClassifier(1)\n",
    "# knn.fit(X_tr,y_tr)\n",
    "# pred = knn.predict(X_test)\n",
    "# acc = accuracy_score(y_test, pred, normalize=True) * float(100)\n",
    "# print('\\n****Test accuracy for k = 1 is %d%%' % (acc))"
   ]
  },
  {
   "cell_type": "markdown",
   "metadata": {},
   "source": [
    "## (tfidf) finding optimal k with train and cv data by applying knn with micro f1_score "
   ]
  },
  {
   "cell_type": "code",
   "execution_count": 65,
   "metadata": {},
   "outputs": [
    {
     "name": "stdout",
     "output_type": "stream",
     "text": [
      "\n",
      "CV accuracy for k = 1 is 85%\n",
      "\n",
      "CV accuracy for k = 3 is 88%\n",
      "\n",
      "CV accuracy for k = 5 is 89%\n",
      "\n",
      "CV accuracy for k = 7 is 89%\n",
      "\n",
      "CV accuracy for k = 9 is 89%\n",
      "\n",
      "CV accuracy for k = 11 is 89%\n",
      "\n",
      "CV accuracy for k = 13 is 89%\n",
      "\n",
      "CV accuracy for k = 15 is 89%\n",
      "\n",
      "CV accuracy for k = 17 is 89%\n",
      "\n",
      "CV accuracy for k = 19 is 89%\n",
      "\n",
      "CV accuracy for k = 21 is 89%\n",
      "\n",
      "CV accuracy for k = 23 is 89%\n",
      "\n",
      "CV accuracy for k = 25 is 89%\n",
      "\n",
      "CV accuracy for k = 27 is 89%\n",
      "\n",
      "CV accuracy for k = 29 is 89%\n"
     ]
    }
   ],
   "source": [
    "for i in range(1,30,2):\n",
    "    # instantiate learning model (k = 30)\n",
    "    knn = KNeighborsClassifier(n_neighbors=i)\n",
    "\n",
    "    # fitting the model on crossvalidation train\n",
    "    knn.fit(tf_idf_x_tr, y_tr)\n",
    "\n",
    "    # predict the response on the crossvalidation train\n",
    "    pred = knn.predict(tf_idf_x_cv)\n",
    "\n",
    "    # evaluate CV accuracy\n",
    "    acc = f1_score(y_cv, pred, average='micro') * float(100)\n",
    "    print('\\nCV accuracy for k = %d is %d%%' % (i, acc))"
   ]
  },
  {
   "cell_type": "markdown",
   "metadata": {},
   "source": [
    "## getting optimal k with f1_score on train and cv with knn kd-tree"
   ]
  },
  {
   "cell_type": "code",
   "execution_count": 152,
   "metadata": {},
   "outputs": [
    {
     "name": "stdout",
     "output_type": "stream",
     "text": [
      "\n",
      "CV accuracy for k = 1 is 85%\n",
      "\n",
      "CV accuracy for k = 3 is 88%\n",
      "\n",
      "CV accuracy for k = 5 is 89%\n",
      "\n",
      "CV accuracy for k = 7 is 89%\n",
      "\n",
      "CV accuracy for k = 9 is 89%\n",
      "\n",
      "CV accuracy for k = 11 is 89%\n",
      "\n",
      "CV accuracy for k = 13 is 89%\n",
      "\n",
      "CV accuracy for k = 15 is 89%\n",
      "\n",
      "CV accuracy for k = 17 is 89%\n",
      "\n",
      "CV accuracy for k = 19 is 89%\n",
      "\n",
      "CV accuracy for k = 21 is 89%\n",
      "\n",
      "CV accuracy for k = 23 is 89%\n",
      "\n",
      "CV accuracy for k = 25 is 89%\n",
      "\n",
      "CV accuracy for k = 27 is 89%\n",
      "\n",
      "CV accuracy for k = 29 is 89%\n"
     ]
    }
   ],
   "source": [
    "for i in range(1,30,2):\n",
    "    # instantiate learning model (k = 30)\n",
    "    knn = KNeighborsClassifier(n_neighbors=i,algorithm='kd_tree', leaf_size=30)\n",
    "\n",
    "    # fitting the model on crossvalidation train\n",
    "    knn.fit(tf_idf_x_tr, y_tr)\n",
    "\n",
    "    # predict the response on the crossvalidation train\n",
    "    pred = knn.predict(tf_idf_x_cv)\n",
    "\n",
    "    # evaluate CV accuracy\n",
    "    acc = f1_score(y_cv, pred, average='micro') * float(100)\n",
    "    print('\\nCV accuracy for k = %d is %d%%' % (i, acc))"
   ]
  },
  {
   "cell_type": "code",
   "execution_count": 175,
   "metadata": {},
   "outputs": [
    {
     "name": "stdout",
     "output_type": "stream",
     "text": [
      "\n",
      "The optimal number of neighbors is 7.\n"
     ]
    },
    {
     "data": {
      "image/png": "[encoded data removed]",
      "text/plain": [
       "<Figure size 432x288 with 1 Axes>"
      ]
     },
     "metadata": {},
     "output_type": "display_data"
    },
    {
     "name": "stdout",
     "output_type": "stream",
     "text": [
      "the misclassification error for each k value is :  [0.157 0.121 0.113 0.112 0.112 0.113 0.113 0.113 0.113 0.114 0.114 0.114\n",
      " 0.115 0.115 0.115 0.115 0.116 0.116 0.116 0.116 0.116 0.116 0.116 0.116\n",
      " 0.117]\n"
     ]
    }
   ],
   "source": [
    "# creating odd list of K for KNN for tfidf\n",
    "myList = list(range(0,50))\n",
    "neighbors = list(filter(lambda x: x % 2 != 0, myList))\n",
    "\n",
    "# empty list that will hold cv scores\n",
    "cv_scores = []\n",
    "\n",
    "# perform 10-fold cross validation\n",
    "for k in neighbors:\n",
    "    knn = KNeighborsClassifier(n_neighbors=k)\n",
    "    scores = cross_val_score(knn, tf_idf_x_1, y_1, cv=3, scoring='accuracy')\n",
    "    cv_scores.append(scores.mean())\n",
    "\n",
    "# changing to misclassification error\n",
    "MSE = [1 - x for x in cv_scores]\n",
    "\n",
    "# determining best k\n",
    "optimal_k = neighbors[MSE.index(min(MSE))]\n",
    "print('\\nThe optimal number of neighbors is %d.' % optimal_k)\n",
    "\n",
    "# plot misclassification error vs k \n",
    "plt.plot(neighbors, MSE)\n",
    "\n",
    "for xy in zip(neighbors, np.round(MSE,3)):\n",
    "    plt.annotate('(%s, %s)' % xy, xy=xy, textcoords='data')\n",
    "\n",
    "plt.xlabel('Number of Neighbors K')\n",
    "plt.ylabel('Misclassification Error')\n",
    "plt.show()\n",
    "\n",
    "print(\"the misclassification error for each k value is : \", np.round(MSE,3))"
   ]
  },
  {
   "cell_type": "markdown",
   "metadata": {},
   "source": [
    "## (tfidf)now with optimal value of k applying it on test dataset i.e k= 7"
   ]
  },
  {
   "cell_type": "code",
   "execution_count": 66,
   "metadata": {
    "scrolled": true
   },
   "outputs": [
    {
     "name": "stdout",
     "output_type": "stream",
     "text": [
      "\n",
      "****Test accuracy for k = 7 is 89%\n"
     ]
    }
   ],
   "source": [
    "knn = KNeighborsClassifier(7)\n",
    "knn.fit(tf_idf_x_tr,y_tr)\n",
    "pred = knn.predict(tf_idf_x_test)\n",
    "acc = accuracy_score(y_test, pred, normalize=True) * float(100)\n",
    "print('\\n****Test accuracy for k = 7 is %d%%' % (acc))"
   ]
  },
  {
   "cell_type": "markdown",
   "metadata": {},
   "source": [
    "## (tfidf knn(kd-tree))now with optimal value of k applying it on test dataset i.e k= 5"
   ]
  },
  {
   "cell_type": "code",
   "execution_count": 154,
   "metadata": {},
   "outputs": [
    {
     "name": "stdout",
     "output_type": "stream",
     "text": [
      "\n",
      "****kd-tree Test accuracy for k = 5 is 89%\n"
     ]
    }
   ],
   "source": [
    "knn = KNeighborsClassifier(5,algorithm='kd_tree', leaf_size=30)\n",
    "knn.fit(tf_idf_x_tr,y_tr)\n",
    "pred = knn.predict(tf_idf_x_test)\n",
    "acc = accuracy_score(y_test, pred, normalize=True) * float(100)\n",
    "print('\\n****kd-tree Test accuracy for k = 5 is %d%%' % (acc))"
   ]
  },
  {
   "cell_type": "markdown",
   "metadata": {},
   "source": [
    "## (tfidf)now with optimal value of k applying micro f1_score it on test dataset i.e k= 7"
   ]
  },
  {
   "cell_type": "code",
   "execution_count": 119,
   "metadata": {},
   "outputs": [
    {
     "name": "stdout",
     "output_type": "stream",
     "text": [
      "\n",
      "****Test micro f1_score for k = 7 is 89%\n"
     ]
    }
   ],
   "source": [
    "knn = KNeighborsClassifier(7)\n",
    "knn.fit(tf_idf_x_tr,y_tr)\n",
    "pred = knn.predict(tf_idf_x_test)\n",
    "acc = f1_score(y_test, pred, average='micro') * float(100)\n",
    "print('\\n****Test micro f1_score for k = 7 is %d%%' % (acc))"
   ]
  },
  {
   "cell_type": "markdown",
   "metadata": {},
   "source": [
    "## (tfidf kd-tree)now with optimal value of k applying micro f1_score it on test dataset i.e k= 5"
   ]
  },
  {
   "cell_type": "code",
   "execution_count": 155,
   "metadata": {},
   "outputs": [
    {
     "name": "stdout",
     "output_type": "stream",
     "text": [
      "\n",
      "****Test micro f1_score for k = 5 is 89%\n"
     ]
    }
   ],
   "source": [
    "knn = KNeighborsClassifier(5,algorithm='kd_tree', leaf_size=30)\n",
    "knn.fit(tf_idf_x_tr,y_tr)\n",
    "pred = knn.predict(tf_idf_x_test)\n",
    "acc = f1_score(y_test, pred, average='micro') * float(100)\n",
    "print('\\n****Test micro f1_score for k = 5 is %d%%' % (acc))"
   ]
  },
  {
   "cell_type": "markdown",
   "metadata": {},
   "source": [
    "## apply confusion matrix  on tfidf"
   ]
  },
  {
   "cell_type": "code",
   "execution_count": 68,
   "metadata": {},
   "outputs": [
    {
     "data": {
      "text/plain": [
       "array([[  305,  1703],\n",
       "       [  170, 15822]], dtype=int64)"
      ]
     },
     "execution_count": 68,
     "metadata": {},
     "output_type": "execute_result"
    }
   ],
   "source": [
    "# apply confusion matrix \n",
    "from sklearn.metrics import confusion_matrix\n",
    "knn = KNeighborsClassifier(5)\n",
    "knn.fit(tf_idf_x_tr,y_tr)\n",
    "pred = knn.predict(tf_idf_x_test)\n",
    "# acc = accuracy_score(y_test, pred, normalize=True) * float(100)\n",
    "# print('\\n****Test accuracy for k = 5 is %d%%' % (acc))\n",
    "tfidf_coufusion_matrix = confusion_matrix(y_test, pred)\n",
    "tfidf_coufusion_matrix"
   ]
  },
  {
   "cell_type": "code",
   "execution_count": 69,
   "metadata": {},
   "outputs": [
    {
     "data": {
      "image/png": "[encoded data removed]",
      "text/plain": [
       "<Figure size 432x288 with 2 Axes>"
      ]
     },
     "metadata": {},
     "output_type": "display_data"
    }
   ],
   "source": [
    "ax = sns.heatmap(tfidf_coufusion_matrix,annot=tfidf_coufusion_matrix, fmt='')"
   ]
  },
  {
   "cell_type": "code",
   "execution_count": null,
   "metadata": {},
   "outputs": [],
   "source": []
  },
  {
   "cell_type": "markdown",
   "metadata": {},
   "source": [
    "# Word2Vec  "
   ]
  },
  {
   "cell_type": "code",
   "execution_count": 80,
   "metadata": {},
   "outputs": [
    {
     "name": "stdout",
     "output_type": "stream",
     "text": [
      "29400\n",
      "\n",
      "--------------Spliting each sentence into words--------word list of ie data corpus---------\n",
      "\n",
      "[['fantast', 'green', 'oliv', 'flavour', 'put', 'salad', 'kill', 'tast'], ['big', 'fan', 'salad', 'dress', 'made', 'tasti', 'stuff', 'tangi', 'without', 'vinegar', 'tast', 'wont', 'eat', 'anyth', 'els', 'salad']]\n"
     ]
    }
   ],
   "source": [
    "#Word2Vec mode \n",
    "# Train your own Word2Vec model using your own text corpus\n",
    "i=0\n",
    "X_tr_list_of_sent=[]\n",
    "for sent in X_tr:\n",
    "    X_tr_list_of_sent.append(sent.split())\n",
    "    \n",
    "print(len(X_tr))\n",
    "print(\"\\n--------------Spliting each sentence into words--------word list of ie data corpus---------\\n\")\n",
    "print(X_tr_list_of_sent[:2])\n",
    "#word list of ie data corpus"
   ]
  },
  {
   "cell_type": "code",
   "execution_count": 79,
   "metadata": {},
   "outputs": [
    {
     "data": {
      "text/plain": [
       "21148"
      ]
     },
     "execution_count": 79,
     "metadata": {},
     "output_type": "execute_result"
    }
   ],
   "source": [
    "#The Word to Vec model produces a vocabulary, with each word being represented by \n",
    "#an n-dimensional numpy array \n",
    "X_tr_w2v_model=Word2Vec(X_tr_list_of_sent,min_count=1,size=50, workers=4)\n",
    "X_tr_w2v_model.wv['man']\n",
    "wlist =list(X_tr_w2v_model.wv.vocab)\n",
    "# wlist is a list of words \n",
    "len(wlist)\n"
   ]
  },
  {
   "cell_type": "markdown",
   "metadata": {},
   "source": [
    "# avg-w2v"
   ]
  },
  {
   "cell_type": "code",
   "execution_count": 138,
   "metadata": {},
   "outputs": [
    {
     "name": "stdout",
     "output_type": "stream",
     "text": [
      "the shape of out text BOW vectorizer  (26698, 50)\n"
     ]
    }
   ],
   "source": [
    "#avg-w2v\n",
    "#labels = []\n",
    "X_tr_w2v_model_tokens = []\n",
    "\n",
    "for word in X_tr_w2v_model.wv.vocab:\n",
    "    X_tr_w2v_model_tokens.append(X_tr_w2v_model[word])\n",
    "    #labels.append(word)\n",
    "    \n",
    "# print(len(tokens));\n",
    "X_tr_w2v_model_tokens = np.array(X_tr_w2v_model_tokens)\n",
    "X_tr_w2v_model_tokens\n",
    "print(\"the shape of out text BOW vectorizer \",X_tr_w2v_model_tokens.shape)"
   ]
  },
  {
   "cell_type": "markdown",
   "metadata": {},
   "source": [
    "## CALCULATE AVG WORD2VEC FOR x_tr"
   ]
  },
  {
   "cell_type": "code",
   "execution_count": 84,
   "metadata": {},
   "outputs": [
    {
     "name": "stderr",
     "output_type": "stream",
     "text": [
      "100%|███████████████████████████████████████████████████████████████████████████| 29400/29400 [00:52<00:00, 565.22it/s]\n"
     ]
    },
    {
     "name": "stdout",
     "output_type": "stream",
     "text": [
      "29400\n",
      "50\n"
     ]
    }
   ],
   "source": [
    "#CALCULATE AVG WORD2VEC FOR x_tr\n",
    "w2v_words = list(X_tr_w2v_model.wv.vocab)\n",
    "# print(\"number of words that occured minimum 5 times \",len(w2v_words))\n",
    "# print(\"sample words \", w2v_words[0:50])\n",
    "# average Word2Vec\n",
    "# compute average word2vec for each review.\n",
    "X_tr_sent_vectors = []; # the avg-w2v for each sentence/review is stored in this list\n",
    "for sent in tqdm(X_tr_list_of_sent): # for each review/sentence\n",
    "    sent_vec = np.zeros(50) # as word vectors are of zero length\n",
    "    cnt_words =0; # num of words with a valid vector in the sentence/review\n",
    "    for word in sent: # for each word in a review/sentence\n",
    "        if word in w2v_words:\n",
    "            vec = X_tr_w2v_model.wv[word]\n",
    "            sent_vec += vec\n",
    "            cnt_words += 1\n",
    "    if cnt_words != 0:\n",
    "        sent_vec /= cnt_words\n",
    "    X_tr_sent_vectors.append(sent_vec)\n",
    "print(len(X_tr_sent_vectors))\n",
    "print(len(X_tr_sent_vectors[0]))"
   ]
  },
  {
   "cell_type": "code",
   "execution_count": 122,
   "metadata": {},
   "outputs": [],
   "source": [
    "#X_tr_sent_vectors[0]\n"
   ]
  },
  {
   "cell_type": "markdown",
   "metadata": {},
   "source": [
    "# cv for Avgword2vec"
   ]
  },
  {
   "cell_type": "code",
   "execution_count": 87,
   "metadata": {},
   "outputs": [
    {
     "name": "stdout",
     "output_type": "stream",
     "text": [
      "love snapea crisp daughter friend want case birthday shipment quick perfect condit delici usual\n",
      "\n",
      "--------------Spliting each sentence into words--------word list of ie data corpus---------\n",
      "\n",
      "[['love', 'snapea', 'crisp', 'daughter', 'friend', 'want', 'case', 'birthday', 'shipment', 'quick', 'perfect', 'condit', 'delici', 'usual'], ['receiv', 'sampl', 'babi', 'fair', 'first', 'cup', 'third', 'day', 'low', 'lot', 'stress', 'sleep', 'etc', 'five', 'hour', 'drink', 'tea', 'use', 'pump', 'quantiti', 'notic', 'amaz', 'increas', 'convinc', 'custom']]\n"
     ]
    }
   ],
   "source": [
    "# Train your own Word2Vec model using your own text corpus\n",
    "i=0\n",
    "X_cv_list_of_sent=[]\n",
    "for sent in X_cv:\n",
    "    X_cv_list_of_sent.append(sent.split())\n",
    "    \n",
    "print(X_cv[0])\n",
    "print(\"\\n--------------Spliting each sentence into words--------word list of ie data corpus---------\\n\")\n",
    "print(X_cv_list_of_sent[:2])\n",
    "#word list of ie data corpus"
   ]
  },
  {
   "cell_type": "markdown",
   "metadata": {},
   "source": [
    "# CALCULATE AVG WORD2VEC FOR x_cv  "
   ]
  },
  {
   "cell_type": "code",
   "execution_count": 92,
   "metadata": {},
   "outputs": [
    {
     "name": "stderr",
     "output_type": "stream",
     "text": [
      "100%|███████████████████████████████████████████████████████████████████████████| 12600/12600 [00:28<00:00, 437.55it/s]\n"
     ]
    },
    {
     "name": "stdout",
     "output_type": "stream",
     "text": [
      "12600\n",
      "50\n"
     ]
    }
   ],
   "source": [
    "#CALCULATE AVG WORD2VEC FOR x_tr  \n",
    "# w2v_words = list(X_cv_w2v_model.wv.vocab)\n",
    "w2v_words = list(X_tr_w2v_model.wv.vocab)\n",
    "\n",
    "# print(\"number of words that occured minimum 5 times \",len(w2v_words))\n",
    "# print(\"sample words \", w2v_words[0:50])\n",
    "# average Word2Vec\n",
    "# compute average word2vec for each review.\n",
    "X_cv_sent_vectors = []; # the avg-w2v for each sentence/review is stored in this list\n",
    "for sent in tqdm(X_cv_list_of_sent): # for each review/sentence\n",
    "    sent_vec = np.zeros(50) # as word vectors are of zero length\n",
    "    cnt_words =0; # num of words with a valid vector in the sentence/review\n",
    "    for word in sent: # for each word in a review/sentence\n",
    "        if word in w2v_words:\n",
    "#             vec = X_cv_w2v_model.wv[word]\n",
    "            vec = X_tr_w2v_model.wv[word]\n",
    "            sent_vec += vec\n",
    "            cnt_words += 1\n",
    "    if cnt_words != 0:\n",
    "        sent_vec /= cnt_words\n",
    "    X_cv_sent_vectors.append(sent_vec)\n",
    "print(len(X_cv_sent_vectors))\n",
    "print(len(X_cv_sent_vectors[0]))"
   ]
  },
  {
   "cell_type": "code",
   "execution_count": null,
   "metadata": {},
   "outputs": [],
   "source": []
  },
  {
   "cell_type": "markdown",
   "metadata": {},
   "source": [
    "# Test for Avgword2vec"
   ]
  },
  {
   "cell_type": "code",
   "execution_count": 94,
   "metadata": {},
   "outputs": [
    {
     "name": "stdout",
     "output_type": "stream",
     "text": [
      "love snapea crisp daughter friend want case birthday shipment quick perfect condit delici usual\n",
      "\n",
      "--------------Spliting each sentence into words--------word list of ie data corpus---------\n",
      "\n",
      "[['pretzel', 'suppos', 'salti', 'tad', 'salti', 'also', 'burnt', 'flavor', 'could', 'say', 'distinct', 'smokey', 'flavor', 'bag', 'ahead', 'prospect', 'unsatisfi', 'pallett', 'mighti', 'tall', 'order', 'hand', 'subtl', 'sweet', 'flavor', 'good', 'ordinari', 'pretzel', 'tri', 'safeti', 'first', 'instead', 'buy', 'bag', 'also', 'note', 'groceri', 'item', 'cannot', 'return', 'amazon'], ['tabbi', 'usual', 'find', 'treat', 'food', 'interest', 'week', 'could', 'care', 'less', 'greeni', 'mark', 'yet', 'refus', 'treat', 'twice', 'day', 'compli', 'demand', 'hit', 'toss', 'treat', 'cubbi', 'aka', 'crack', 'hous', 'gotta', 'get', 'hand', 'fast', 'greeni', 'defin', 'worth', 'happi', 'albeit', 'addict', 'cat']]\n"
     ]
    }
   ],
   "source": [
    "# Train your own Word2Vec model using your own text corpus\n",
    "i=0\n",
    "X_test_list_of_sent=[]\n",
    "for sent in X_test:\n",
    "    X_test_list_of_sent.append(sent.split())\n",
    "    \n",
    "print(X_cv[0])\n",
    "print(\"\\n--------------Spliting each sentence into words--------word list of ie data corpus---------\\n\")\n",
    "print(X_test_list_of_sent[:2])\n",
    "#word list of ie data corpus\n",
    "\n",
    "#The Word to Vec model produces a vocabulary, with each word being represented by \n",
    "#an n-dimensional numpy array \n",
    "\n",
    "#change\n",
    "\n",
    "# X_test_w2v_model=Word2Vec(X_test_list_of_sent,min_count=5,size=50, workers=4)\n",
    "# X_test_w2v_model.wv['man']"
   ]
  },
  {
   "cell_type": "code",
   "execution_count": 95,
   "metadata": {},
   "outputs": [],
   "source": [
    "#labels = []\n",
    "\n",
    "#chnage\n",
    "\n",
    "# X_test_w2v_model_tokens = []\n",
    "\n",
    "# for word in X_test_w2v_model.wv.vocab:\n",
    "#     X_test_w2v_model_tokens.append(X_test_w2v_model[word])\n",
    "    \n",
    "# X_test_w2v_model_tokens = np.array(X_test_w2v_model_tokens)\n",
    "# X_test_w2v_model_tokens\n",
    "# print(\"the shape of out text BOW vectorizer \",X_cv_w2v_model_tokens.shape)"
   ]
  },
  {
   "cell_type": "markdown",
   "metadata": {},
   "source": [
    "## CALCULATE AVG WORD2VEC FOR x_test"
   ]
  },
  {
   "cell_type": "code",
   "execution_count": 96,
   "metadata": {},
   "outputs": [
    {
     "name": "stderr",
     "output_type": "stream",
     "text": [
      "100%|███████████████████████████████████████████████████████████████████████████| 18000/18000 [00:36<00:00, 499.96it/s]\n"
     ]
    },
    {
     "name": "stdout",
     "output_type": "stream",
     "text": [
      "18000\n",
      "50\n"
     ]
    }
   ],
   "source": [
    "#CALCULATE AVG WORD2VEC FOR x_test\n",
    "# w2v_words = list(X_test_w2v_model.wv.vocab)\n",
    "\n",
    "w2v_words = list(X_tr_w2v_model.wv.vocab)\n",
    "# print(\"number of words that occured minimum 5 times \",len(w2v_words))\n",
    "# print(\"sample words \", w2v_words[0:50])\n",
    "# average Word2Vec\n",
    "# compute average word2vec for each review.\n",
    "X_test_sent_vectors = []; # the avg-w2v for each sentence/review is stored in this list\n",
    "for sent in tqdm(X_test_list_of_sent): # for each review/sentence\n",
    "    sent_vec = np.zeros(50) # as word vectors are of zero length\n",
    "    cnt_words =0; # num of words with a valid vector in the sentence/review\n",
    "    for word in sent: # for each word in a review/sentence\n",
    "        if word in w2v_words:\n",
    "#             vec = X_test_w2v_model.wv[word]\n",
    "            vec = X_tr_w2v_model.wv[word]\n",
    "            sent_vec += vec\n",
    "            cnt_words += 1\n",
    "    if cnt_words != 0:\n",
    "        sent_vec /= cnt_words\n",
    "    X_test_sent_vectors.append(sent_vec)\n",
    "print(len(X_test_sent_vectors))\n",
    "print(len(X_test_sent_vectors[0]))"
   ]
  },
  {
   "cell_type": "code",
   "execution_count": null,
   "metadata": {},
   "outputs": [],
   "source": [
    "X_test_sent_vectors[0]"
   ]
  },
  {
   "cell_type": "markdown",
   "metadata": {},
   "source": [
    "## now finding the optimal K with acc matrix on avg w2vec"
   ]
  },
  {
   "cell_type": "code",
   "execution_count": 97,
   "metadata": {},
   "outputs": [
    {
     "name": "stdout",
     "output_type": "stream",
     "text": [
      "\n",
      "CV accuracy for k = 1 is 85%\n",
      "\n",
      "CV accuracy for k = 3 is 88%\n",
      "\n",
      "CV accuracy for k = 5 is 89%\n",
      "\n",
      "CV accuracy for k = 7 is 89%\n",
      "\n",
      "CV accuracy for k = 9 is 89%\n",
      "\n",
      "CV accuracy for k = 11 is 89%\n",
      "\n",
      "CV accuracy for k = 13 is 89%\n",
      "\n",
      "CV accuracy for k = 15 is 89%\n",
      "\n",
      "CV accuracy for k = 17 is 89%\n",
      "\n",
      "CV accuracy for k = 19 is 89%\n",
      "\n",
      "CV accuracy for k = 21 is 89%\n",
      "\n",
      "CV accuracy for k = 23 is 89%\n",
      "\n",
      "CV accuracy for k = 25 is 89%\n",
      "\n",
      "CV accuracy for k = 27 is 89%\n",
      "\n",
      "CV accuracy for k = 29 is 89%\n"
     ]
    }
   ],
   "source": [
    "for i in range(1,30,2):\n",
    "    # instantiate learning model (k = 30)\n",
    "    knn = KNeighborsClassifier(n_neighbors=i)\n",
    "\n",
    "    # fitting the model on crossvalidation train\n",
    "    knn.fit(X_tr_sent_vectors, y_tr)\n",
    "\n",
    "    # predict the response on the crossvalidation train\n",
    "    pred = knn.predict(X_cv_sent_vectors)\n",
    "\n",
    "    # evaluate CV accuracy\n",
    "    acc = accuracy_score(y_cv, pred, normalize=True) * float(100)\n",
    "    print('\\nCV accuracy for k = %d is %d%%' % (i, acc))"
   ]
  },
  {
   "cell_type": "markdown",
   "metadata": {},
   "source": [
    "## now knn(kd-tree) finding the optimal K with acc matrix on avg w2vec"
   ]
  },
  {
   "cell_type": "code",
   "execution_count": 156,
   "metadata": {},
   "outputs": [
    {
     "name": "stdout",
     "output_type": "stream",
     "text": [
      "\n",
      "kd-tree CV accuracy for k = 1 is 85%\n",
      "\n",
      "kd-tree CV accuracy for k = 3 is 88%\n",
      "\n",
      "kd-tree CV accuracy for k = 5 is 89%\n",
      "\n",
      "kd-tree CV accuracy for k = 7 is 89%\n",
      "\n",
      "kd-tree CV accuracy for k = 9 is 89%\n",
      "\n",
      "kd-tree CV accuracy for k = 11 is 89%\n",
      "\n",
      "kd-tree CV accuracy for k = 13 is 89%\n",
      "\n",
      "kd-tree CV accuracy for k = 15 is 89%\n",
      "\n",
      "kd-tree CV accuracy for k = 17 is 89%\n",
      "\n",
      "kd-tree CV accuracy for k = 19 is 89%\n",
      "\n",
      "kd-tree CV accuracy for k = 21 is 89%\n",
      "\n",
      "kd-tree CV accuracy for k = 23 is 89%\n",
      "\n",
      "kd-tree CV accuracy for k = 25 is 89%\n",
      "\n",
      "kd-tree CV accuracy for k = 27 is 89%\n",
      "\n",
      "kd-tree CV accuracy for k = 29 is 89%\n"
     ]
    }
   ],
   "source": [
    "for i in range(1,30,2):\n",
    "    # instantiate learning model (k = 30)\n",
    "    knn = KNeighborsClassifier(n_neighbors=i,algorithm='kd_tree', leaf_size=30)\n",
    "\n",
    "    # fitting the model on crossvalidation train\n",
    "    knn.fit(X_tr_sent_vectors, y_tr)\n",
    "\n",
    "    # predict the response on the crossvalidation train\n",
    "    pred = knn.predict(X_cv_sent_vectors)\n",
    "\n",
    "    # evaluate CV accuracy\n",
    "    acc = accuracy_score(y_cv, pred, normalize=True) * float(100)\n",
    "    print('\\nkd-tree CV accuracy for k = %d is %d%%' % (i, acc))"
   ]
  },
  {
   "cell_type": "markdown",
   "metadata": {},
   "source": [
    "## applying optimal value of k on the test data i.e k = 5"
   ]
  },
  {
   "cell_type": "code",
   "execution_count": 99,
   "metadata": {},
   "outputs": [
    {
     "name": "stdout",
     "output_type": "stream",
     "text": [
      "\n",
      "****Test accuracy for k = 5 is 89%\n"
     ]
    }
   ],
   "source": [
    "knn = KNeighborsClassifier(5)\n",
    "knn.fit(X_tr_sent_vectors,y_tr)\n",
    "pred = knn.predict(X_test_sent_vectors)\n",
    "acc = accuracy_score(y_test, pred, normalize=True) * float(100)\n",
    "print('\\n****Test accuracy for k = 5 is %d%%' % (acc))"
   ]
  },
  {
   "cell_type": "markdown",
   "metadata": {},
   "source": [
    "## knn(kd-tree) applying optimal value of k on the test data i.e k = 5"
   ]
  },
  {
   "cell_type": "code",
   "execution_count": 157,
   "metadata": {},
   "outputs": [
    {
     "name": "stdout",
     "output_type": "stream",
     "text": [
      "\n",
      "****kd-tree Test accuracy for k = 5 is 89%\n"
     ]
    }
   ],
   "source": [
    "knn = KNeighborsClassifier(5,algorithm='kd_tree', leaf_size=30)\n",
    "knn.fit(X_tr_sent_vectors,y_tr)\n",
    "pred = knn.predict(X_test_sent_vectors)\n",
    "acc = accuracy_score(y_test, pred, normalize=True) * float(100)\n",
    "print('\\n****kd-tree Test accuracy for k = 5 is %d%%' % (acc))"
   ]
  },
  {
   "cell_type": "markdown",
   "metadata": {},
   "source": [
    "## now finding the optimal K with micro f1_score matrix on avg w2vec"
   ]
  },
  {
   "cell_type": "code",
   "execution_count": 117,
   "metadata": {},
   "outputs": [
    {
     "name": "stdout",
     "output_type": "stream",
     "text": [
      "\n",
      "CV micro f1_score for k = 1 is 85%\n",
      "\n",
      "CV micro f1_score for k = 3 is 88%\n",
      "\n",
      "CV micro f1_score for k = 5 is 89%\n",
      "\n",
      "CV micro f1_score for k = 7 is 89%\n",
      "\n",
      "CV micro f1_score for k = 9 is 89%\n",
      "\n",
      "CV micro f1_score for k = 11 is 89%\n",
      "\n",
      "CV micro f1_score for k = 13 is 89%\n",
      "\n",
      "CV micro f1_score for k = 15 is 89%\n",
      "\n",
      "CV micro f1_score for k = 17 is 89%\n",
      "\n",
      "CV micro f1_score for k = 19 is 89%\n",
      "\n",
      "CV micro f1_score for k = 21 is 89%\n",
      "\n",
      "CV micro f1_score for k = 23 is 89%\n",
      "\n",
      "CV micro f1_score for k = 25 is 89%\n",
      "\n",
      "CV micro f1_score for k = 27 is 89%\n",
      "\n",
      "CV micro f1_score for k = 29 is 89%\n"
     ]
    }
   ],
   "source": [
    "for i in range(1,30,2):\n",
    "    # instantiate learning model (k = 30)\n",
    "    knn = KNeighborsClassifier(n_neighbors=i)\n",
    "\n",
    "    # fitting the model on crossvalidation train\n",
    "    knn.fit(X_tr_sent_vectors, y_tr)\n",
    "\n",
    "    # predict the response on the crossvalidation train\n",
    "    pred = knn.predict(X_cv_sent_vectors)\n",
    "\n",
    "    # evaluate CV accuracy\n",
    "    acc = f1_score(y_cv, pred, average='micro') * float(100)\n",
    "    print('\\nCV micro f1_score for k = %d is %d%%' % (i, acc))"
   ]
  },
  {
   "cell_type": "markdown",
   "metadata": {},
   "source": [
    "## knn(kd-tree) now finding the optimal K with micro f1_score matrix on avg w2vec"
   ]
  },
  {
   "cell_type": "code",
   "execution_count": 158,
   "metadata": {},
   "outputs": [
    {
     "name": "stdout",
     "output_type": "stream",
     "text": [
      "\n",
      "CV micro f1_score for k = 1 is 85%\n",
      "\n",
      "CV micro f1_score for k = 3 is 88%\n",
      "\n",
      "CV micro f1_score for k = 5 is 89%\n",
      "\n",
      "CV micro f1_score for k = 7 is 89%\n",
      "\n",
      "CV micro f1_score for k = 9 is 89%\n",
      "\n",
      "CV micro f1_score for k = 11 is 89%\n",
      "\n",
      "CV micro f1_score for k = 13 is 89%\n",
      "\n",
      "CV micro f1_score for k = 15 is 89%\n",
      "\n",
      "CV micro f1_score for k = 17 is 89%\n",
      "\n",
      "CV micro f1_score for k = 19 is 89%\n",
      "\n",
      "CV micro f1_score for k = 21 is 89%\n",
      "\n",
      "CV micro f1_score for k = 23 is 89%\n",
      "\n",
      "CV micro f1_score for k = 25 is 89%\n",
      "\n",
      "CV micro f1_score for k = 27 is 89%\n",
      "\n",
      "CV micro f1_score for k = 29 is 89%\n"
     ]
    }
   ],
   "source": [
    "for i in range(1,30,2):\n",
    "    # instantiate learning model (k = 30)\n",
    "    knn = KNeighborsClassifier(n_neighbors=i,algorithm='kd_tree', leaf_size=30)\n",
    "\n",
    "    # fitting the model on crossvalidation train\n",
    "    knn.fit(X_tr_sent_vectors, y_tr)\n",
    "\n",
    "    # predict the response on the crossvalidation train\n",
    "    pred = knn.predict(X_cv_sent_vectors)\n",
    "\n",
    "    # evaluate CV accuracy\n",
    "    acc = f1_score(y_cv, pred, average='micro') * float(100)\n",
    "    print('\\nCV micro f1_score for k = %d is %d%%' % (i, acc))"
   ]
  },
  {
   "cell_type": "markdown",
   "metadata": {},
   "source": [
    "## applying optimal value of k on the test data for micro f1_score i.e k = 5 "
   ]
  },
  {
   "cell_type": "code",
   "execution_count": 118,
   "metadata": {},
   "outputs": [
    {
     "name": "stdout",
     "output_type": "stream",
     "text": [
      "\n",
      "****Test f1_score for k = 5 is 89%\n"
     ]
    }
   ],
   "source": [
    "knn = KNeighborsClassifier(5)\n",
    "knn.fit(X_tr_sent_vectors,y_tr)\n",
    "pred = knn.predict(X_test_sent_vectors)\n",
    "acc = f1_score(y_test, pred, average='micro') * float(100)\n",
    "print('\\n****Test f1_score for k = 5 is %d%%' % (acc))"
   ]
  },
  {
   "cell_type": "markdown",
   "metadata": {},
   "source": [
    "## knn(kd-tree) applying optimal value of k on the test data for micro f1_score i.e k = 5"
   ]
  },
  {
   "cell_type": "code",
   "execution_count": 160,
   "metadata": {},
   "outputs": [
    {
     "name": "stdout",
     "output_type": "stream",
     "text": [
      "\n",
      "****kd-tree Test f1_score for k = 5 is 89%\n"
     ]
    }
   ],
   "source": [
    "knn = KNeighborsClassifier(5,algorithm='kd_tree', leaf_size=30)\n",
    "knn.fit(X_tr_sent_vectors,y_tr)\n",
    "pred = knn.predict(X_test_sent_vectors)\n",
    "acc = f1_score(y_test, pred, average='micro') * float(100)\n",
    "print('\\n****kd-tree Test f1_score for k = 5 is %d%%' % (acc))"
   ]
  },
  {
   "cell_type": "markdown",
   "metadata": {},
   "source": [
    "## apply confusion matrix on avg w2vec"
   ]
  },
  {
   "cell_type": "code",
   "execution_count": 100,
   "metadata": {},
   "outputs": [
    {
     "data": {
      "text/plain": [
       "array([[  442,  1566],\n",
       "       [  360, 15632]], dtype=int64)"
      ]
     },
     "execution_count": 100,
     "metadata": {},
     "output_type": "execute_result"
    }
   ],
   "source": [
    "# apply confusion matrix \n",
    "from sklearn.metrics import confusion_matrix\n",
    "knn = KNeighborsClassifier(5)\n",
    "knn.fit(X_tr_sent_vectors,y_tr)\n",
    "pred = knn.predict(X_test_sent_vectors)\n",
    "# acc = accuracy_score(y_test, pred, normalize=True) * float(100)\n",
    "# print('\\n****Test accuracy for k = 5 is %d%%' % (acc))\n",
    "avgw2vec_confusion_matrix = confusion_matrix(y_test, pred)\n",
    "avgw2vec_confusion_matrix"
   ]
  },
  {
   "cell_type": "code",
   "execution_count": 101,
   "metadata": {},
   "outputs": [
    {
     "data": {
      "image/png": "[encoded data removed]",
      "text/plain": [
       "<Figure size 432x288 with 2 Axes>"
      ]
     },
     "metadata": {},
     "output_type": "display_data"
    }
   ],
   "source": [
    "ax = sns.heatmap(avgw2vec_confusion_matrix,annot=avgw2vec_confusion_matrix, fmt='')"
   ]
  },
  {
   "cell_type": "code",
   "execution_count": null,
   "metadata": {},
   "outputs": [],
   "source": []
  },
  {
   "cell_type": "markdown",
   "metadata": {},
   "source": [
    "# TF-IDF weighted Word2Vec"
   ]
  },
  {
   "cell_type": "markdown",
   "metadata": {},
   "source": [
    "## TF-IDF weighted Word2Vec for c_tr ie train "
   ]
  },
  {
   "cell_type": "code",
   "execution_count": 104,
   "metadata": {},
   "outputs": [],
   "source": [
    "# we are converting a dictionary with word as a key, and the idf as a value\n",
    "dictionary = dict(zip(tf_idf_vect.get_feature_names(), list(tf_idf_vect.idf_)))"
   ]
  },
  {
   "cell_type": "code",
   "execution_count": 105,
   "metadata": {},
   "outputs": [
    {
     "name": "stderr",
     "output_type": "stream",
     "text": [
      "100%|███████████████████████████████████████████████████████████████████████████| 29400/29400 [01:00<00:00, 483.38it/s]\n"
     ]
    }
   ],
   "source": [
    "#--new way TF-IDF weighted Word2Vec\n",
    "   # TF-IDF weighted Word2Vec\n",
    "tfidf_feat = tf_idf_vect.get_feature_names() # tfidf words/col-names\n",
    "# final_tf_idf is the sparse matrix with row= sentence, col=word and cell_val = tfidf\n",
    "\n",
    "X_tr_tfidf_sent_vectors = []; # the tfidf-w2v for each sentence/review is stored in this list\n",
    "row=0;\n",
    "for sent in tqdm(X_tr_list_of_sent): # for each review/sentence \n",
    "    sent_vec = np.zeros(50) # as word vectors are of zero length\n",
    "    weight_sum =0; # num of words with a valid vector in the sentence/review\n",
    "    for word in sent: # for each word in a review/sentence\n",
    "        if word in w2v_words:\n",
    "            vec = X_tr_w2v_model.wv[word]\n",
    "#             tf_idf = tf_idf_matrix[row, tfidf_feat.index(word)]\n",
    "            # to reduce the computation we are \n",
    "            # dictionary[word] = idf value of word in whole courpus\n",
    "            # sent.count(word) = tf valeus of word in this review\n",
    "            tf_idf = dictionary[word]*(sent.count(word)/len(sent))\n",
    "            sent_vec += (vec * tf_idf)\n",
    "            weight_sum += tf_idf\n",
    "    if weight_sum != 0:\n",
    "        sent_vec /= weight_sum\n",
    "    X_tr_tfidf_sent_vectors.append(sent_vec)\n",
    "    row += 1\n",
    "\n",
    "#--------------------------------------------------new way"
   ]
  },
  {
   "cell_type": "code",
   "execution_count": 106,
   "metadata": {},
   "outputs": [
    {
     "name": "stdout",
     "output_type": "stream",
     "text": [
      "29400\n",
      "50\n"
     ]
    }
   ],
   "source": [
    "print(len(X_tr_tfidf_sent_vectors))\n",
    "print(len(X_tr_tfidf_sent_vectors[0]))"
   ]
  },
  {
   "cell_type": "code",
   "execution_count": 107,
   "metadata": {},
   "outputs": [
    {
     "data": {
      "text/plain": [
       "array([-6.61325196e-01,  4.27122573e-01, -6.17071775e-02,  4.26272240e-01,\n",
       "        2.96406332e-01,  1.33749806e-01,  1.90408915e-02,  1.17200801e+00,\n",
       "       -5.88594656e-01,  1.08146709e+00,  3.38193973e-01,  1.07745229e+00,\n",
       "        3.01946412e-01,  3.64909926e-01,  1.02687939e+00,  7.08874548e-01,\n",
       "       -8.28193983e-01,  4.42295794e-02, -5.91197902e-01, -5.93715859e-01,\n",
       "       -2.71983118e-01,  3.91163739e-01,  7.25811769e-01,  3.88467067e-02,\n",
       "       -5.35117497e-01,  4.42828302e-01,  5.89562812e-04, -3.22835917e-01,\n",
       "       -3.25983744e-01, -7.43865234e-01, -8.88674506e-01,  6.42316537e-01,\n",
       "        9.43803343e-01,  3.87417376e-01, -2.87904865e-01, -4.44882784e-01,\n",
       "        3.20912573e-01,  2.88022084e-01, -1.25983951e+00, -4.24662029e-01,\n",
       "       -8.60205668e-01, -7.80621078e-02, -5.59232485e-03,  3.64157690e-01,\n",
       "       -2.22466741e-01,  1.59019920e-01, -1.40498116e-02,  1.97809404e-01,\n",
       "        8.48159916e-01,  4.71295370e-01])"
      ]
     },
     "execution_count": 107,
     "metadata": {},
     "output_type": "execute_result"
    }
   ],
   "source": [
    "X_tr_tfidf_sent_vectors[0]"
   ]
  },
  {
   "cell_type": "markdown",
   "metadata": {},
   "source": [
    "## TF-IDF weighted Word2Vec for cv "
   ]
  },
  {
   "cell_type": "code",
   "execution_count": 108,
   "metadata": {},
   "outputs": [
    {
     "name": "stderr",
     "output_type": "stream",
     "text": [
      "100%|███████████████████████████████████████████████████████████████████████████| 12600/12600 [00:28<00:00, 436.72it/s]\n"
     ]
    },
    {
     "name": "stdout",
     "output_type": "stream",
     "text": [
      "12600\n",
      "50\n"
     ]
    }
   ],
   "source": [
    "#--new way TF-IDF weighted Word2Vec for cv with train data \n",
    "   # TF-IDF weighted Word2Vec\n",
    "tfidf_feat = tf_idf_vect.get_feature_names() # tfidf words/col-names\n",
    "# final_tf_idf is the sparse matrix with row= sentence, col=word and cell_val = tfidf\n",
    "\n",
    "X_cv_tfidf_sent_vectors = []; # the tfidf-w2v for each sentence/review is stored in this list\n",
    "row=0;\n",
    "for sent in tqdm(X_cv_list_of_sent): # for each review/sentence \n",
    "    sent_vec = np.zeros(50) # as word vectors are of zero length\n",
    "    weight_sum =0; # num of words with a valid vector in the sentence/review\n",
    "    for word in sent: # for each word in a review/sentence\n",
    "        if word in w2v_words:\n",
    "            vec = X_tr_w2v_model.wv[word]\n",
    "#             tf_idf = tf_idf_matrix[row, tfidf_feat.index(word)]\n",
    "            # to reduce the computation we are \n",
    "            # dictionary[word] = idf value of word in whole courpus\n",
    "            # sent.count(word) = tf valeus of word in this review\n",
    "            tf_idf = dictionary[word]*(sent.count(word)/len(sent))\n",
    "            sent_vec += (vec * tf_idf)\n",
    "            weight_sum += tf_idf\n",
    "    if weight_sum != 0:\n",
    "        sent_vec /= weight_sum\n",
    "    X_cv_tfidf_sent_vectors.append(sent_vec)\n",
    "    row += 1\n",
    "\n",
    "#--------------------------------------------------new way\n",
    "print(len(X_cv_tfidf_sent_vectors))\n",
    "print(len(X_cv_tfidf_sent_vectors[0]))"
   ]
  },
  {
   "cell_type": "markdown",
   "metadata": {},
   "source": [
    "## TF-IDF weighted Word2Vec for X_test ie test "
   ]
  },
  {
   "cell_type": "code",
   "execution_count": 205,
   "metadata": {},
   "outputs": [
    {
     "name": "stdout",
     "output_type": "stream",
     "text": [
      "30000\n",
      "50\n"
     ]
    }
   ],
   "source": [
    "# TF-IDF weighted Word2Vec for X_test ie test \n",
    "tfidf_feat = tf_idf_vect.get_feature_names() # tfidf words/col-names\n",
    "# final_tf_idf is the sparse matrix with row= sentence, col=word and cell_val = tfidf\n",
    "\n",
    "X_test_tfidf_sent_vectors = []; # the tfidf-w2v for each sentence/review is stored in this list\n",
    "row=0;\n",
    "for sent in X_test_list_of_sent: # for each review/sentence \n",
    "    sent_vec = np.zeros(50) # as word vectors are of zero length\n",
    "    weight_sum =0; # num of words with a valid vector in the sentence/review\n",
    "    for word in sent: # for each word in a review/sentence\n",
    "        try:\n",
    "            vec = X_test_w2v_model.wv[word]\n",
    "            # obtain the tf_idfidf of a word in a sentence/review\n",
    "            tf_idf = tf_idf_x_test[row, tfidf_feat.index(word)]\n",
    "            sent_vec += (vec * tf_idf)\n",
    "            weight_sum += tf_idf\n",
    "        except:\n",
    "            pass\n",
    "    \n",
    "    sent_vec /= weight_sum\n",
    "    X_test_tfidf_sent_vectors.append(sent_vec)\n",
    "    row += 1\n",
    "    \n",
    "print(len(X_test_tfidf_sent_vectors))\n",
    "print(len(X_test_tfidf_sent_vectors[0]))"
   ]
  },
  {
   "cell_type": "code",
   "execution_count": 109,
   "metadata": {},
   "outputs": [
    {
     "name": "stderr",
     "output_type": "stream",
     "text": [
      "100%|███████████████████████████████████████████████████████████████████████████| 18000/18000 [00:40<00:00, 441.17it/s]\n"
     ]
    },
    {
     "name": "stdout",
     "output_type": "stream",
     "text": [
      "18000\n",
      "50\n"
     ]
    }
   ],
   "source": [
    "#--new way TF-IDF weighted Word2Vec for cv with train data \n",
    "   # TF-IDF weighted Word2Vec\n",
    "tfidf_feat = tf_idf_vect.get_feature_names() # tfidf words/col-names\n",
    "# final_tf_idf is the sparse matrix with row= sentence, col=word and cell_val = tfidf\n",
    "\n",
    "X_test_tfidf_sent_vectors = []; # the tfidf-w2v for each sentence/review is stored in this list\n",
    "row=0;\n",
    "for sent in tqdm(X_test_list_of_sent): # for each review/sentence \n",
    "    sent_vec = np.zeros(50) # as word vectors are of zero length\n",
    "    weight_sum =0; # num of words with a valid vector in the sentence/review\n",
    "    for word in sent: # for each word in a review/sentence\n",
    "        if word in w2v_words:\n",
    "            vec = X_tr_w2v_model.wv[word]\n",
    "#             tf_idf = tf_idf_matrix[row, tfidf_feat.index(word)]\n",
    "            # to reduce the computation we are \n",
    "            # dictionary[word] = idf value of word in whole courpus\n",
    "            # sent.count(word) = tf valeus of word in this review\n",
    "            tf_idf = dictionary[word]*(sent.count(word)/len(sent))\n",
    "            sent_vec += (vec * tf_idf)\n",
    "            weight_sum += tf_idf\n",
    "    if weight_sum != 0:\n",
    "        sent_vec /= weight_sum\n",
    "    X_test_tfidf_sent_vectors.append(sent_vec)\n",
    "    row += 1\n",
    "\n",
    "#--------------------------------------------------new way\n",
    "print(len(X_test_tfidf_sent_vectors))\n",
    "print(len(X_test_tfidf_sent_vectors[0]))"
   ]
  },
  {
   "cell_type": "markdown",
   "metadata": {},
   "source": [
    "## apply knn on TF-IDF weighted Word2Vec for train and cv to get optimal k with acc matrix"
   ]
  },
  {
   "cell_type": "code",
   "execution_count": 110,
   "metadata": {},
   "outputs": [
    {
     "name": "stdout",
     "output_type": "stream",
     "text": [
      "\n",
      "CV accuracy for k = 1 is 84%\n",
      "\n",
      "CV accuracy for k = 3 is 87%\n",
      "\n",
      "CV accuracy for k = 5 is 88%\n",
      "\n",
      "CV accuracy for k = 7 is 88%\n",
      "\n",
      "CV accuracy for k = 9 is 89%\n",
      "\n",
      "CV accuracy for k = 11 is 89%\n",
      "\n",
      "CV accuracy for k = 13 is 89%\n",
      "\n",
      "CV accuracy for k = 15 is 89%\n",
      "\n",
      "CV accuracy for k = 17 is 89%\n",
      "\n",
      "CV accuracy for k = 19 is 89%\n",
      "\n",
      "CV accuracy for k = 21 is 89%\n",
      "\n",
      "CV accuracy for k = 23 is 89%\n",
      "\n",
      "CV accuracy for k = 25 is 89%\n",
      "\n",
      "CV accuracy for k = 27 is 89%\n",
      "\n",
      "CV accuracy for k = 29 is 89%\n"
     ]
    }
   ],
   "source": [
    "for i in range(1,30,2):\n",
    "    # instantiate learning model (k = 30)\n",
    "    knn = KNeighborsClassifier(n_neighbors=i)\n",
    "\n",
    "    # fitting the model on crossvalidation train\n",
    "    knn.fit(X_tr_tfidf_sent_vectors, y_tr)\n",
    "\n",
    "    # predict the response on the crossvalidation train\n",
    "    pred = knn.predict(X_cv_tfidf_sent_vectors)\n",
    "\n",
    "    # evaluate CV accuracy\n",
    "    acc = accuracy_score(y_cv, pred, normalize=True) * float(100)\n",
    "    print('\\nCV accuracy for k = %d is %d%%' % (i, acc))"
   ]
  },
  {
   "cell_type": "markdown",
   "metadata": {},
   "source": [
    "## knn(kd-tree) apply knn on TF-IDF weighted Word2Vec for train and cv to get optimal k with acc matrix"
   ]
  },
  {
   "cell_type": "code",
   "execution_count": 159,
   "metadata": {},
   "outputs": [
    {
     "name": "stdout",
     "output_type": "stream",
     "text": [
      "\n",
      "kd-tree CV accuracy for k = 1 is 84%\n",
      "\n",
      "kd-tree CV accuracy for k = 3 is 87%\n",
      "\n",
      "kd-tree CV accuracy for k = 5 is 88%\n",
      "\n",
      "kd-tree CV accuracy for k = 7 is 88%\n",
      "\n",
      "kd-tree CV accuracy for k = 9 is 89%\n",
      "\n",
      "kd-tree CV accuracy for k = 11 is 89%\n",
      "\n",
      "kd-tree CV accuracy for k = 13 is 89%\n",
      "\n",
      "kd-tree CV accuracy for k = 15 is 89%\n",
      "\n",
      "kd-tree CV accuracy for k = 17 is 89%\n",
      "\n",
      "kd-tree CV accuracy for k = 19 is 89%\n",
      "\n",
      "kd-tree CV accuracy for k = 21 is 89%\n",
      "\n",
      "kd-tree CV accuracy for k = 23 is 89%\n",
      "\n",
      "kd-tree CV accuracy for k = 25 is 89%\n",
      "\n",
      "kd-tree CV accuracy for k = 27 is 89%\n",
      "\n",
      "kd-tree CV accuracy for k = 29 is 89%\n"
     ]
    }
   ],
   "source": [
    "for i in range(1,30,2):\n",
    "    # instantiate learning model (k = 30)\n",
    "    knn = KNeighborsClassifier(n_neighbors=i,algorithm='kd_tree', leaf_size=30)\n",
    "\n",
    "    # fitting the model on crossvalidation train\n",
    "    knn.fit(X_tr_tfidf_sent_vectors, y_tr)\n",
    "\n",
    "    # predict the response on the crossvalidation train\n",
    "    pred = knn.predict(X_cv_tfidf_sent_vectors)\n",
    "\n",
    "    # evaluate CV accuracy\n",
    "    acc = accuracy_score(y_cv, pred, normalize=True) * float(100)\n",
    "    print('\\nkd-tree CV accuracy for k = %d is %d%%' % (i, acc))"
   ]
  },
  {
   "cell_type": "markdown",
   "metadata": {},
   "source": [
    "## now with optimal value of k apply it on test data i.e k = 9"
   ]
  },
  {
   "cell_type": "code",
   "execution_count": 111,
   "metadata": {},
   "outputs": [
    {
     "name": "stdout",
     "output_type": "stream",
     "text": [
      "\n",
      "****Test accuracy for k = 9 is 89%\n"
     ]
    }
   ],
   "source": [
    "knn = KNeighborsClassifier(9)\n",
    "knn.fit(X_tr_tfidf_sent_vectors,y_tr)\n",
    "pred = knn.predict(X_test_tfidf_sent_vectors)\n",
    "acc = accuracy_score(y_test, pred, normalize=True) * float(100)\n",
    "print('\\n****Test accuracy for k = 9 is %d%%' % (acc))"
   ]
  },
  {
   "cell_type": "markdown",
   "metadata": {},
   "source": [
    "## kd-tree now with optimal value of k apply it on test data i.e k = 9"
   ]
  },
  {
   "cell_type": "code",
   "execution_count": 161,
   "metadata": {},
   "outputs": [
    {
     "name": "stdout",
     "output_type": "stream",
     "text": [
      "\n",
      "****kd-tree Test accuracy for k = 9 is 89%\n"
     ]
    }
   ],
   "source": [
    "knn = KNeighborsClassifier(9,algorithm='kd_tree', leaf_size=30)\n",
    "knn.fit(X_tr_tfidf_sent_vectors,y_tr)\n",
    "pred = knn.predict(X_test_tfidf_sent_vectors)\n",
    "acc = accuracy_score(y_test, pred, normalize=True) * float(100)\n",
    "print('\\n****kd-tree Test accuracy for k = 9 is %d%%' % (acc))"
   ]
  },
  {
   "cell_type": "markdown",
   "metadata": {},
   "source": [
    "## apply knn on TF-IDF weighted Word2Vec for train and cv to get optimal k with micro F1_Score matrix"
   ]
  },
  {
   "cell_type": "code",
   "execution_count": 114,
   "metadata": {},
   "outputs": [
    {
     "name": "stdout",
     "output_type": "stream",
     "text": [
      "\n",
      "CV micro fl_score  for k = 1 is 84%\n",
      "\n",
      "CV micro fl_score  for k = 3 is 87%\n",
      "\n",
      "CV micro fl_score  for k = 5 is 88%\n",
      "\n",
      "CV micro fl_score  for k = 7 is 88%\n",
      "\n",
      "CV micro fl_score  for k = 9 is 89%\n",
      "\n",
      "CV micro fl_score  for k = 11 is 89%\n",
      "\n",
      "CV micro fl_score  for k = 13 is 89%\n",
      "\n",
      "CV micro fl_score  for k = 15 is 89%\n",
      "\n",
      "CV micro fl_score  for k = 17 is 89%\n",
      "\n",
      "CV micro fl_score  for k = 19 is 89%\n",
      "\n",
      "CV micro fl_score  for k = 21 is 89%\n",
      "\n",
      "CV micro fl_score  for k = 23 is 89%\n",
      "\n",
      "CV micro fl_score  for k = 25 is 89%\n",
      "\n",
      "CV micro fl_score  for k = 27 is 89%\n",
      "\n",
      "CV micro fl_score  for k = 29 is 89%\n"
     ]
    }
   ],
   "source": [
    "for i in range(1,30,2):\n",
    "    # instantiate learning model (k = 30)\n",
    "    knn = KNeighborsClassifier(n_neighbors=i)\n",
    "\n",
    "    # fitting the model on crossvalidation train\n",
    "    knn.fit(X_tr_tfidf_sent_vectors, y_tr)\n",
    "\n",
    "    # predict the response on the crossvalidation train\n",
    "    pred = knn.predict(X_cv_tfidf_sent_vectors)\n",
    "\n",
    "    # evaluate CV accuracy\n",
    "    acc = f1_score(y_cv, pred, average='micro') * float(100)\n",
    "    print('\\nCV micro fl_score  for k = %d is %d%%' % (i, acc))"
   ]
  },
  {
   "cell_type": "markdown",
   "metadata": {},
   "source": [
    "## apply knn(kd-tree) on TF-IDF weighted Word2Vec for train and cv to get optimal k with micro F1_Score matrix"
   ]
  },
  {
   "cell_type": "code",
   "execution_count": 162,
   "metadata": {},
   "outputs": [
    {
     "name": "stdout",
     "output_type": "stream",
     "text": [
      "\n",
      "kd-tree CV micro fl_score  for k = 1 is 84%\n",
      "\n",
      "kd-tree CV micro fl_score  for k = 3 is 87%\n",
      "\n",
      "kd-tree CV micro fl_score  for k = 5 is 88%\n",
      "\n",
      "kd-tree CV micro fl_score  for k = 7 is 88%\n",
      "\n",
      "kd-tree CV micro fl_score  for k = 9 is 89%\n",
      "\n",
      "kd-tree CV micro fl_score  for k = 11 is 89%\n",
      "\n",
      "kd-tree CV micro fl_score  for k = 13 is 89%\n",
      "\n",
      "kd-tree CV micro fl_score  for k = 15 is 89%\n",
      "\n",
      "kd-tree CV micro fl_score  for k = 17 is 89%\n",
      "\n",
      "kd-tree CV micro fl_score  for k = 19 is 89%\n",
      "\n",
      "kd-tree CV micro fl_score  for k = 21 is 89%\n",
      "\n",
      "kd-tree CV micro fl_score  for k = 23 is 89%\n",
      "\n",
      "kd-tree CV micro fl_score  for k = 25 is 89%\n",
      "\n",
      "kd-tree CV micro fl_score  for k = 27 is 89%\n",
      "\n",
      "kd-tree CV micro fl_score  for k = 29 is 89%\n"
     ]
    }
   ],
   "source": [
    "for i in range(1,30,2):\n",
    "    # instantiate learning model (k = 30)\n",
    "    knn = KNeighborsClassifier(n_neighbors=i,algorithm='kd_tree', leaf_size=30)\n",
    "\n",
    "    # fitting the model on crossvalidation train\n",
    "    knn.fit(X_tr_tfidf_sent_vectors, y_tr)\n",
    "\n",
    "    # predict the response on the crossvalidation train\n",
    "    pred = knn.predict(X_cv_tfidf_sent_vectors)\n",
    "\n",
    "    # evaluate CV accuracy\n",
    "    acc = f1_score(y_cv, pred, average='micro') * float(100)\n",
    "    print('\\nkd-tree CV micro fl_score  for k = %d is %d%%' % (i, acc))"
   ]
  },
  {
   "cell_type": "markdown",
   "metadata": {},
   "source": [
    "## now with optimal value of k apply it on test data i.e k = 9 with micro f1_score "
   ]
  },
  {
   "cell_type": "code",
   "execution_count": 128,
   "metadata": {},
   "outputs": [
    {
     "name": "stdout",
     "output_type": "stream",
     "text": [
      "\n",
      "CV micro fl_score  for k = 9 is 89%\n"
     ]
    }
   ],
   "source": [
    "knn = KNeighborsClassifier(9)\n",
    "knn.fit(X_tr_tfidf_sent_vectors, y_tr)\n",
    "pred = knn.predict(X_test_tfidf_sent_vectors)\n",
    "acc = f1_score(y_test, pred, average='micro') * float(100)\n",
    "print('\\nCV micro fl_score  for k = 9 is %d%%' % ( acc))"
   ]
  },
  {
   "cell_type": "markdown",
   "metadata": {},
   "source": [
    "## knn(kd-tree) now with optimal value of k apply it on test data i.e k = 9 with micro f1_score"
   ]
  },
  {
   "cell_type": "code",
   "execution_count": 163,
   "metadata": {},
   "outputs": [
    {
     "name": "stdout",
     "output_type": "stream",
     "text": [
      "\n",
      "kd-tree CV micro fl_score  for k = 9 is 89%\n"
     ]
    }
   ],
   "source": [
    "knn = KNeighborsClassifier(9,algorithm='kd_tree', leaf_size=30)\n",
    "knn.fit(X_tr_tfidf_sent_vectors, y_tr)\n",
    "pred = knn.predict(X_test_tfidf_sent_vectors)\n",
    "acc = f1_score(y_test, pred, average='micro') * float(100)\n",
    "print('\\nkd-tree CV micro fl_score  for k = 9 is %d%%' % ( acc))"
   ]
  },
  {
   "cell_type": "markdown",
   "metadata": {},
   "source": [
    "## apply confusion matrix on tfidf_avg_w2vec"
   ]
  },
  {
   "cell_type": "code",
   "execution_count": 112,
   "metadata": {},
   "outputs": [
    {
     "data": {
      "text/plain": [
       "array([[  423,  1585],\n",
       "       [  396, 15596]], dtype=int64)"
      ]
     },
     "execution_count": 112,
     "metadata": {},
     "output_type": "execute_result"
    }
   ],
   "source": [
    "# apply confusion matrix \n",
    "from sklearn.metrics import confusion_matrix\n",
    "knn = KNeighborsClassifier(5)\n",
    "knn.fit(X_tr_tfidf_sent_vectors,y_tr)\n",
    "pred = knn.predict(X_test_tfidf_sent_vectors)\n",
    "# acc = accuracy_score(y_test, pred, normalize=True) * float(100)\n",
    "# print('\\n****Test accuracy for k = 5 is %d%%' % (acc))\n",
    "tfidf_avg_w2vec_confusion_matrix = confusion_matrix(y_test, pred)\n",
    "tfidf_avg_w2vec_confusion_matrix"
   ]
  },
  {
   "cell_type": "code",
   "execution_count": 113,
   "metadata": {},
   "outputs": [
    {
     "data": {
      "image/png": "[encoded data removed]",
      "text/plain": [
       "<Figure size 432x288 with 2 Axes>"
      ]
     },
     "metadata": {},
     "output_type": "display_data"
    }
   ],
   "source": [
    "ax = sns.heatmap(tfidf_avg_w2vec_confusion_matrix,annot=tfidf_avg_w2vec_confusion_matrix, fmt='')"
   ]
  },
  {
   "cell_type": "code",
   "execution_count": null,
   "metadata": {},
   "outputs": [],
   "source": []
  },
  {
   "cell_type": "markdown",
   "metadata": {},
   "source": [
    "#  conclusions section"
   ]
  },
  {
   "cell_type": "code",
   "execution_count": 165,
   "metadata": {},
   "outputs": [
    {
     "name": "stdout",
     "output_type": "stream",
     "text": [
      "+----------------+------------------+------------+-----------+-----------+-----------------+----------------+----------------+\n",
      "|     Model      |        FE        | opt k(acc) | train acc |  test acc | opt k(f1_score) | train f1_score |  test f1_score |\n",
      "+----------------+------------------+------------+-----------+-----------+-----------------+----------------+----------------+\n",
      "|      knn       |       BOW        |    k=7     |    88%    |    89%    |       k=7       |      88%       |      89%       |\n",
      "|      knn       |      TFIDF       |    k=7     |    89%    |    89%    |       k=7       |      89%       |      89%       |\n",
      "|      knn       |     avg-w2v      |    k=5     |    89%    |    89%    |       k=5       |      89%       |      89%       |\n",
      "|      knn       | TF-IDF wei W2Vec |    k=9     |    89%    |    89%    |       k=9       |      89%       |      89%       |\n",
      "| knn (kd-tree)  |       BOW        |    k=3     |    88%    |    88%    |       k=3       |      88%       |      88%       |\n",
      "| knn (kd-tree)  |      TFIDF       |    k=5     |    89%    |    89%    |       k=5       |      89%       |      89%       |\n",
      "| knn (kd-tree)  |     avg-w2v      |    k=5     |    89%    |    89%    |       k=5       |      89%       |      89%       |\n",
      "| knn (kd-tree)  | TF-IDF wei W2Vec |    k=9     |    89%    |    89%    |       k=9       |      89%       |      89%       |\n",
      "+----------------+------------------+------------+-----------+-----------+-----------------+----------------+----------------+\n"
     ]
    }
   ],
   "source": [
    "from prettytable import PrettyTable\n",
    "    \n",
    "x = PrettyTable()\n",
    "\n",
    "x.field_names = [\"Model\", \"FE\",\"opt k(acc)\", \"train acc\", \" test acc\",\"opt k(f1_score)\",\"train f1_score\", \" test f1_score\"]\n",
    "\n",
    "x.add_row([\"knn \",\"BOW\",\"k=7 \", \"88%\",\"89%\" ,\"k=7\" ,\"88%\",\"89%\"])\n",
    "x.add_row([\"knn \",\"TFIDF\",\"k=7 \", \"89%\",\"89%\" ,\"k=7\" ,\"89%\",\"89%\"])\n",
    "x.add_row([\"knn \",\"avg-w2v\",\"k=5 \", \"89%\",\"89%\" ,\"k=5\" ,\"89%\",\"89%\"])\n",
    "x.add_row([\"knn \",\"TF-IDF wei W2Vec\",\"k=9 \", \"89%\",\"89%\" ,\"k=9\" ,\"89%\",\"89%\"])\n",
    "x.add_row([\"knn (kd-tree) \",\"BOW\",\"k=3 \", \"88%\",\"88%\" ,\"k=3\" ,\"88%\",\"88%\"])\n",
    "x.add_row([\"knn (kd-tree)\",\"TFIDF\",\"k=5 \", \"89%\",\"89%\" ,\"k=5\" ,\"89%\",\"89%\"])\n",
    "x.add_row([\"knn (kd-tree) \",\"avg-w2v\",\"k=5 \", \"89%\",\"89%\" ,\"k=5\" ,\"89%\",\"89%\"])\n",
    "x.add_row([\"knn (kd-tree)\",\"TF-IDF wei W2Vec\",\"k=9 \", \"89%\",\"89%\" ,\"k=9\" ,\"89%\",\"89%\"])\n",
    "\n",
    "\n",
    "print(x)"
   ]
  },
  {
   "cell_type": "markdown",
   "metadata": {},
   "source": []
  },
  {
   "cell_type": "code",
   "execution_count": null,
   "metadata": {},
   "outputs": [],
   "source": []
  }
 ],
 "metadata": {
  "kernelspec": {
   "display_name": "Python 3",
   "language": "python",
   "name": "python3"
  },
  "language_info": {
   "codemirror_mode": {
    "name": "ipython",
    "version": 3
   },
   "file_extension": ".py",
   "mimetype": "text/x-python",
   "name": "python",
   "nbconvert_exporter": "python",
   "pygments_lexer": "ipython3",
   "version": "3.6.5"
  }
 },
 "nbformat": 4,
 "nbformat_minor": 2
}
